{
  "nbformat": 4,
  "nbformat_minor": 0,
  "metadata": {
    "colab": {
      "name": "pytorch_chap1.ipynb",
      "provenance": [],
      "collapsed_sections": []
    },
    "kernelspec": {
      "name": "python3",
      "display_name": "Python 3"
    },
    "language_info": {
      "name": "python"
    },
    "accelerator": "GPU",
    "widgets": {
      "application/vnd.jupyter.widget-state+json": {
        "49d9b0084cb649e19b2cf4b2869a2e3f": {
          "model_module": "@jupyter-widgets/controls",
          "model_name": "HBoxModel",
          "model_module_version": "1.5.0",
          "state": {
            "_view_name": "HBoxView",
            "_dom_classes": [],
            "_model_name": "HBoxModel",
            "_view_module": "@jupyter-widgets/controls",
            "_model_module_version": "1.5.0",
            "_view_count": null,
            "_view_module_version": "1.5.0",
            "box_style": "",
            "layout": "IPY_MODEL_47a85602df9648c4ba203434b2507f81",
            "_model_module": "@jupyter-widgets/controls",
            "children": [
              "IPY_MODEL_5f8386323f38476297628ce70526c15d",
              "IPY_MODEL_c4207b37556b4fe78a7c3f99d1201b2b",
              "IPY_MODEL_9923733130294800a15e499aa95b53be"
            ]
          }
        },
        "47a85602df9648c4ba203434b2507f81": {
          "model_module": "@jupyter-widgets/base",
          "model_name": "LayoutModel",
          "model_module_version": "1.2.0",
          "state": {
            "_view_name": "LayoutView",
            "grid_template_rows": null,
            "right": null,
            "justify_content": null,
            "_view_module": "@jupyter-widgets/base",
            "overflow": null,
            "_model_module_version": "1.2.0",
            "_view_count": null,
            "flex_flow": null,
            "width": null,
            "min_width": null,
            "border": null,
            "align_items": null,
            "bottom": null,
            "_model_module": "@jupyter-widgets/base",
            "top": null,
            "grid_column": null,
            "overflow_y": null,
            "overflow_x": null,
            "grid_auto_flow": null,
            "grid_area": null,
            "grid_template_columns": null,
            "flex": null,
            "_model_name": "LayoutModel",
            "justify_items": null,
            "grid_row": null,
            "max_height": null,
            "align_content": null,
            "visibility": null,
            "align_self": null,
            "height": null,
            "min_height": null,
            "padding": null,
            "grid_auto_rows": null,
            "grid_gap": null,
            "max_width": null,
            "order": null,
            "_view_module_version": "1.2.0",
            "grid_template_areas": null,
            "object_position": null,
            "object_fit": null,
            "grid_auto_columns": null,
            "margin": null,
            "display": null,
            "left": null
          }
        },
        "5f8386323f38476297628ce70526c15d": {
          "model_module": "@jupyter-widgets/controls",
          "model_name": "HTMLModel",
          "model_module_version": "1.5.0",
          "state": {
            "_view_name": "HTMLView",
            "style": "IPY_MODEL_99eb2b1c43ba42b58b15f64a67e1254c",
            "_dom_classes": [],
            "description": "",
            "_model_name": "HTMLModel",
            "placeholder": "​",
            "_view_module": "@jupyter-widgets/controls",
            "_model_module_version": "1.5.0",
            "value": "100%",
            "_view_count": null,
            "_view_module_version": "1.5.0",
            "description_tooltip": null,
            "_model_module": "@jupyter-widgets/controls",
            "layout": "IPY_MODEL_692d42b4d9684233828dfdf0f15a9c47"
          }
        },
        "c4207b37556b4fe78a7c3f99d1201b2b": {
          "model_module": "@jupyter-widgets/controls",
          "model_name": "FloatProgressModel",
          "model_module_version": "1.5.0",
          "state": {
            "_view_name": "ProgressView",
            "style": "IPY_MODEL_2d027fbfc9e7449f8d76919d5c0ffb60",
            "_dom_classes": [],
            "description": "",
            "_model_name": "FloatProgressModel",
            "bar_style": "success",
            "max": 553433881,
            "_view_module": "@jupyter-widgets/controls",
            "_model_module_version": "1.5.0",
            "value": 553433881,
            "_view_count": null,
            "_view_module_version": "1.5.0",
            "orientation": "horizontal",
            "min": 0,
            "description_tooltip": null,
            "_model_module": "@jupyter-widgets/controls",
            "layout": "IPY_MODEL_1ea3f08e68324fe28a6139242e971617"
          }
        },
        "9923733130294800a15e499aa95b53be": {
          "model_module": "@jupyter-widgets/controls",
          "model_name": "HTMLModel",
          "model_module_version": "1.5.0",
          "state": {
            "_view_name": "HTMLView",
            "style": "IPY_MODEL_f5aea5f2a03d488aad63ca92e55906b6",
            "_dom_classes": [],
            "description": "",
            "_model_name": "HTMLModel",
            "placeholder": "​",
            "_view_module": "@jupyter-widgets/controls",
            "_model_module_version": "1.5.0",
            "value": " 528M/528M [00:05&lt;00:00, 98.2MB/s]",
            "_view_count": null,
            "_view_module_version": "1.5.0",
            "description_tooltip": null,
            "_model_module": "@jupyter-widgets/controls",
            "layout": "IPY_MODEL_b596995b023445cda312dbfc1498f17d"
          }
        },
        "99eb2b1c43ba42b58b15f64a67e1254c": {
          "model_module": "@jupyter-widgets/controls",
          "model_name": "DescriptionStyleModel",
          "model_module_version": "1.5.0",
          "state": {
            "_view_name": "StyleView",
            "_model_name": "DescriptionStyleModel",
            "description_width": "",
            "_view_module": "@jupyter-widgets/base",
            "_model_module_version": "1.5.0",
            "_view_count": null,
            "_view_module_version": "1.2.0",
            "_model_module": "@jupyter-widgets/controls"
          }
        },
        "692d42b4d9684233828dfdf0f15a9c47": {
          "model_module": "@jupyter-widgets/base",
          "model_name": "LayoutModel",
          "model_module_version": "1.2.0",
          "state": {
            "_view_name": "LayoutView",
            "grid_template_rows": null,
            "right": null,
            "justify_content": null,
            "_view_module": "@jupyter-widgets/base",
            "overflow": null,
            "_model_module_version": "1.2.0",
            "_view_count": null,
            "flex_flow": null,
            "width": null,
            "min_width": null,
            "border": null,
            "align_items": null,
            "bottom": null,
            "_model_module": "@jupyter-widgets/base",
            "top": null,
            "grid_column": null,
            "overflow_y": null,
            "overflow_x": null,
            "grid_auto_flow": null,
            "grid_area": null,
            "grid_template_columns": null,
            "flex": null,
            "_model_name": "LayoutModel",
            "justify_items": null,
            "grid_row": null,
            "max_height": null,
            "align_content": null,
            "visibility": null,
            "align_self": null,
            "height": null,
            "min_height": null,
            "padding": null,
            "grid_auto_rows": null,
            "grid_gap": null,
            "max_width": null,
            "order": null,
            "_view_module_version": "1.2.0",
            "grid_template_areas": null,
            "object_position": null,
            "object_fit": null,
            "grid_auto_columns": null,
            "margin": null,
            "display": null,
            "left": null
          }
        },
        "2d027fbfc9e7449f8d76919d5c0ffb60": {
          "model_module": "@jupyter-widgets/controls",
          "model_name": "ProgressStyleModel",
          "model_module_version": "1.5.0",
          "state": {
            "_view_name": "StyleView",
            "_model_name": "ProgressStyleModel",
            "description_width": "",
            "_view_module": "@jupyter-widgets/base",
            "_model_module_version": "1.5.0",
            "_view_count": null,
            "_view_module_version": "1.2.0",
            "bar_color": null,
            "_model_module": "@jupyter-widgets/controls"
          }
        },
        "1ea3f08e68324fe28a6139242e971617": {
          "model_module": "@jupyter-widgets/base",
          "model_name": "LayoutModel",
          "model_module_version": "1.2.0",
          "state": {
            "_view_name": "LayoutView",
            "grid_template_rows": null,
            "right": null,
            "justify_content": null,
            "_view_module": "@jupyter-widgets/base",
            "overflow": null,
            "_model_module_version": "1.2.0",
            "_view_count": null,
            "flex_flow": null,
            "width": null,
            "min_width": null,
            "border": null,
            "align_items": null,
            "bottom": null,
            "_model_module": "@jupyter-widgets/base",
            "top": null,
            "grid_column": null,
            "overflow_y": null,
            "overflow_x": null,
            "grid_auto_flow": null,
            "grid_area": null,
            "grid_template_columns": null,
            "flex": null,
            "_model_name": "LayoutModel",
            "justify_items": null,
            "grid_row": null,
            "max_height": null,
            "align_content": null,
            "visibility": null,
            "align_self": null,
            "height": null,
            "min_height": null,
            "padding": null,
            "grid_auto_rows": null,
            "grid_gap": null,
            "max_width": null,
            "order": null,
            "_view_module_version": "1.2.0",
            "grid_template_areas": null,
            "object_position": null,
            "object_fit": null,
            "grid_auto_columns": null,
            "margin": null,
            "display": null,
            "left": null
          }
        },
        "f5aea5f2a03d488aad63ca92e55906b6": {
          "model_module": "@jupyter-widgets/controls",
          "model_name": "DescriptionStyleModel",
          "model_module_version": "1.5.0",
          "state": {
            "_view_name": "StyleView",
            "_model_name": "DescriptionStyleModel",
            "description_width": "",
            "_view_module": "@jupyter-widgets/base",
            "_model_module_version": "1.5.0",
            "_view_count": null,
            "_view_module_version": "1.2.0",
            "_model_module": "@jupyter-widgets/controls"
          }
        },
        "b596995b023445cda312dbfc1498f17d": {
          "model_module": "@jupyter-widgets/base",
          "model_name": "LayoutModel",
          "model_module_version": "1.2.0",
          "state": {
            "_view_name": "LayoutView",
            "grid_template_rows": null,
            "right": null,
            "justify_content": null,
            "_view_module": "@jupyter-widgets/base",
            "overflow": null,
            "_model_module_version": "1.2.0",
            "_view_count": null,
            "flex_flow": null,
            "width": null,
            "min_width": null,
            "border": null,
            "align_items": null,
            "bottom": null,
            "_model_module": "@jupyter-widgets/base",
            "top": null,
            "grid_column": null,
            "overflow_y": null,
            "overflow_x": null,
            "grid_auto_flow": null,
            "grid_area": null,
            "grid_template_columns": null,
            "flex": null,
            "_model_name": "LayoutModel",
            "justify_items": null,
            "grid_row": null,
            "max_height": null,
            "align_content": null,
            "visibility": null,
            "align_self": null,
            "height": null,
            "min_height": null,
            "padding": null,
            "grid_auto_rows": null,
            "grid_gap": null,
            "max_width": null,
            "order": null,
            "_view_module_version": "1.2.0",
            "grid_template_areas": null,
            "object_position": null,
            "object_fit": null,
            "grid_auto_columns": null,
            "margin": null,
            "display": null,
            "left": null
          }
        }
      }
    }
  },
  "cells": [
    {
      "cell_type": "code",
      "metadata": {
        "id": "_wV4kiAOyMI9"
      },
      "source": [
        "# Cha[ter 1. Transfer Leaning"
      ],
      "execution_count": null,
      "outputs": []
    },
    {
      "cell_type": "code",
      "metadata": {
        "id": "Hwf5M41LycWF"
      },
      "source": [
        ""
      ],
      "execution_count": null,
      "outputs": []
    },
    {
      "cell_type": "code",
      "metadata": {
        "colab": {
          "base_uri": "https://localhost:8080/"
        },
        "id": "eSniAOJRysb0",
        "outputId": "c1f60f2a-c1a4-416e-da2c-61e884cf3794"
      },
      "source": [
        "from google.colab import drive\n",
        "drive.mount('/content/drive')"
      ],
      "execution_count": null,
      "outputs": [
        {
          "output_type": "stream",
          "name": "stdout",
          "text": [
            "Drive already mounted at /content/drive; to attempt to forcibly remount, call drive.mount(\"/content/drive\", force_remount=True).\n"
          ]
        }
      ]
    },
    {
      "cell_type": "code",
      "metadata": {
        "id": "7GEiyVbxzS4t"
      },
      "source": [
        "chap1_path = \"drive/MyDrive/Colab\\ Notebooks/chap1\" \n",
        "data_path = chap1_path + \"/data/\""
      ],
      "execution_count": null,
      "outputs": []
    },
    {
      "cell_type": "code",
      "metadata": {
        "colab": {
          "base_uri": "https://localhost:8080/"
        },
        "id": "iS1yIoHGzsWT",
        "outputId": "107d2903-59c7-428d-c541-8312b6c0269e"
      },
      "source": [
        "!ls $data_path"
      ],
      "execution_count": null,
      "outputs": [
        {
          "output_type": "stream",
          "name": "stdout",
          "text": [
            "cifar-10  golden.jpg  imgnet1000.txt\n"
          ]
        }
      ]
    },
    {
      "cell_type": "code",
      "metadata": {
        "id": "gnJd2CRW0jHM"
      },
      "source": [
        "import numpy as np\n",
        "import matplotlib.pyplot as plt\n",
        "from PIL import Image\n",
        "\n",
        "import torch\n",
        "from torch import nn\n",
        "import torchvision\n",
        "from torchvision import models, transforms"
      ],
      "execution_count": null,
      "outputs": []
    },
    {
      "cell_type": "code",
      "metadata": {
        "colab": {
          "base_uri": "https://localhost:8080/"
        },
        "id": "PzioaytR1SA4",
        "outputId": "b837db5f-8568-4021-9902-7f821a3f660e"
      },
      "source": [
        "# Check Versions\n",
        "print(\"PyTorch Version: \", torch.__version__)\n",
        "print(\"Torchvision Version: \", torchvision.__version__)"
      ],
      "execution_count": null,
      "outputs": [
        {
          "output_type": "stream",
          "name": "stdout",
          "text": [
            "PyTorch Version:  1.10.0+cu111\n",
            "Torchvision Version:  0.11.1+cu111\n"
          ]
        }
      ]
    },
    {
      "cell_type": "code",
      "metadata": {
        "colab": {
          "base_uri": "https://localhost:8080/",
          "height": 847,
          "referenced_widgets": [
            "49d9b0084cb649e19b2cf4b2869a2e3f",
            "47a85602df9648c4ba203434b2507f81",
            "5f8386323f38476297628ce70526c15d",
            "c4207b37556b4fe78a7c3f99d1201b2b",
            "9923733130294800a15e499aa95b53be",
            "99eb2b1c43ba42b58b15f64a67e1254c",
            "692d42b4d9684233828dfdf0f15a9c47",
            "2d027fbfc9e7449f8d76919d5c0ffb60",
            "1ea3f08e68324fe28a6139242e971617",
            "f5aea5f2a03d488aad63ca92e55906b6",
            "b596995b023445cda312dbfc1498f17d"
          ]
        },
        "id": "iG7xfAY91Z4M",
        "outputId": "0d5bf61b-07b7-41ab-9ac3-4751c12150d4"
      },
      "source": [
        "# Create an instance of VGG-16\n",
        "net = models.vgg16(pretrained=True) #학습된 파라미터를 사용하는 vgg-16 model을 읽어옴\n",
        "net.eval() # 추론 모드로 설정 // 추론을 실행하기전에 호출을 안해줄경우 드롭아웃 및 배치 정규화를 평가모드로 설정을 해야함 -> 안그럴 경우 추론 결과가 일관성 없이 출력이된다."
      ],
      "execution_count": null,
      "outputs": [
        {
          "output_type": "stream",
          "name": "stderr",
          "text": [
            "Downloading: \"https://download.pytorch.org/models/vgg16-397923af.pth\" to /root/.cache/torch/hub/checkpoints/vgg16-397923af.pth\n"
          ]
        },
        {
          "output_type": "display_data",
          "data": {
            "application/vnd.jupyter.widget-view+json": {
              "model_id": "49d9b0084cb649e19b2cf4b2869a2e3f",
              "version_minor": 0,
              "version_major": 2
            },
            "text/plain": [
              "  0%|          | 0.00/528M [00:00<?, ?B/s]"
            ]
          },
          "metadata": {}
        },
        {
          "output_type": "execute_result",
          "data": {
            "text/plain": [
              "VGG(\n",
              "  (features): Sequential(\n",
              "    (0): Conv2d(3, 64, kernel_size=(3, 3), stride=(1, 1), padding=(1, 1))\n",
              "    (1): ReLU(inplace=True)\n",
              "    (2): Conv2d(64, 64, kernel_size=(3, 3), stride=(1, 1), padding=(1, 1))\n",
              "    (3): ReLU(inplace=True)\n",
              "    (4): MaxPool2d(kernel_size=2, stride=2, padding=0, dilation=1, ceil_mode=False)\n",
              "    (5): Conv2d(64, 128, kernel_size=(3, 3), stride=(1, 1), padding=(1, 1))\n",
              "    (6): ReLU(inplace=True)\n",
              "    (7): Conv2d(128, 128, kernel_size=(3, 3), stride=(1, 1), padding=(1, 1))\n",
              "    (8): ReLU(inplace=True)\n",
              "    (9): MaxPool2d(kernel_size=2, stride=2, padding=0, dilation=1, ceil_mode=False)\n",
              "    (10): Conv2d(128, 256, kernel_size=(3, 3), stride=(1, 1), padding=(1, 1))\n",
              "    (11): ReLU(inplace=True)\n",
              "    (12): Conv2d(256, 256, kernel_size=(3, 3), stride=(1, 1), padding=(1, 1))\n",
              "    (13): ReLU(inplace=True)\n",
              "    (14): Conv2d(256, 256, kernel_size=(3, 3), stride=(1, 1), padding=(1, 1))\n",
              "    (15): ReLU(inplace=True)\n",
              "    (16): MaxPool2d(kernel_size=2, stride=2, padding=0, dilation=1, ceil_mode=False)\n",
              "    (17): Conv2d(256, 512, kernel_size=(3, 3), stride=(1, 1), padding=(1, 1))\n",
              "    (18): ReLU(inplace=True)\n",
              "    (19): Conv2d(512, 512, kernel_size=(3, 3), stride=(1, 1), padding=(1, 1))\n",
              "    (20): ReLU(inplace=True)\n",
              "    (21): Conv2d(512, 512, kernel_size=(3, 3), stride=(1, 1), padding=(1, 1))\n",
              "    (22): ReLU(inplace=True)\n",
              "    (23): MaxPool2d(kernel_size=2, stride=2, padding=0, dilation=1, ceil_mode=False)\n",
              "    (24): Conv2d(512, 512, kernel_size=(3, 3), stride=(1, 1), padding=(1, 1))\n",
              "    (25): ReLU(inplace=True)\n",
              "    (26): Conv2d(512, 512, kernel_size=(3, 3), stride=(1, 1), padding=(1, 1))\n",
              "    (27): ReLU(inplace=True)\n",
              "    (28): Conv2d(512, 512, kernel_size=(3, 3), stride=(1, 1), padding=(1, 1))\n",
              "    (29): ReLU(inplace=True)\n",
              "    (30): MaxPool2d(kernel_size=2, stride=2, padding=0, dilation=1, ceil_mode=False)\n",
              "  )\n",
              "  (avgpool): AdaptiveAvgPool2d(output_size=(7, 7))\n",
              "  (classifier): Sequential(\n",
              "    (0): Linear(in_features=25088, out_features=4096, bias=True)\n",
              "    (1): ReLU(inplace=True)\n",
              "    (2): Dropout(p=0.5, inplace=False)\n",
              "    (3): Linear(in_features=4096, out_features=4096, bias=True)\n",
              "    (4): ReLU(inplace=True)\n",
              "    (5): Dropout(p=0.5, inplace=False)\n",
              "    (6): Linear(in_features=4096, out_features=1000, bias=True)\n",
              "  )\n",
              ")"
            ]
          },
          "metadata": {},
          "execution_count": 9
        }
      ]
    },
    {
      "cell_type": "code",
      "metadata": {
        "id": "skIEguGO2Gdz"
      },
      "source": [
        "from torchsummary import summary"
      ],
      "execution_count": null,
      "outputs": []
    },
    {
      "cell_type": "code",
      "metadata": {
        "id": "olHXHLxm23qQ"
      },
      "source": [
        "# # parameter  수를확인 할수있다.\n",
        "# summary(net, input_size=(3,224,224))"
      ],
      "execution_count": null,
      "outputs": []
    },
    {
      "cell_type": "markdown",
      "metadata": {
        "id": "RXio9IJ390Og"
      },
      "source": [
        "### 1) Download CIFAR-10 & ToTensor"
      ]
    },
    {
      "cell_type": "code",
      "metadata": {
        "id": "wBvWwnOH3IUF",
        "colab": {
          "base_uri": "https://localhost:8080/"
        },
        "outputId": "19ecc783-1730-4aa3-ff83-7245d9680235"
      },
      "source": [
        "!mkdir $data_path/cifar-10"
      ],
      "execution_count": null,
      "outputs": [
        {
          "output_type": "stream",
          "name": "stdout",
          "text": [
            "mkdir: cannot create directory ‘drive/MyDrive/Colab Notebooks/chap1/data//cifar-10’: File exists\n"
          ]
        }
      ]
    },
    {
      "cell_type": "code",
      "metadata": {
        "id": "zm5SUe3N5sfQ"
      },
      "source": [
        "from torchvision import datasets"
      ],
      "execution_count": null,
      "outputs": []
    },
    {
      "cell_type": "code",
      "metadata": {
        "colab": {
          "base_uri": "https://localhost:8080/"
        },
        "id": "ARQX7EZI6Bhh",
        "outputId": "fa1a1d39-c142-4b68-bd01-cd6db2c86827"
      },
      "source": [
        "cifar_path = data_path + \"/cifar-10/\"\n",
        "cifar10 = datasets.CIFAR10(cifar_path, train = True, download=True)\n",
        "cifar10_val = datasets.CIFAR10(cifar_path, train = False, download=True)"
      ],
      "execution_count": null,
      "outputs": [
        {
          "output_type": "stream",
          "name": "stdout",
          "text": [
            "Files already downloaded and verified\n",
            "Files already downloaded and verified\n"
          ]
        }
      ]
    },
    {
      "cell_type": "code",
      "metadata": {
        "colab": {
          "base_uri": "https://localhost:8080/"
        },
        "id": "jxomJYRc6k52",
        "outputId": "f93a9f32-ef76-4a90-9334-6f03d5eb5a3a"
      },
      "source": [
        "type(cifar10).__mro__"
      ],
      "execution_count": null,
      "outputs": [
        {
          "output_type": "execute_result",
          "data": {
            "text/plain": [
              "(torchvision.datasets.cifar.CIFAR10,\n",
              " torchvision.datasets.vision.VisionDataset,\n",
              " torch.utils.data.dataset.Dataset,\n",
              " typing.Generic,\n",
              " object)"
            ]
          },
          "metadata": {},
          "execution_count": 15
        }
      ]
    },
    {
      "cell_type": "code",
      "metadata": {
        "colab": {
          "base_uri": "https://localhost:8080/"
        },
        "id": "GTBozGfR60wM",
        "outputId": "8aed014d-0c7d-46f0-ea01-8f95011b0e18"
      },
      "source": [
        "len(cifar10)"
      ],
      "execution_count": null,
      "outputs": [
        {
          "output_type": "execute_result",
          "data": {
            "text/plain": [
              "50000"
            ]
          },
          "metadata": {},
          "execution_count": 16
        }
      ]
    },
    {
      "cell_type": "code",
      "metadata": {
        "colab": {
          "base_uri": "https://localhost:8080/"
        },
        "id": "5KF3dpVU652j",
        "outputId": "28cde8a9-182d-4fe1-ecff-49eac7aaf131"
      },
      "source": [
        "len(cifar10_val)"
      ],
      "execution_count": null,
      "outputs": [
        {
          "output_type": "execute_result",
          "data": {
            "text/plain": [
              "10000"
            ]
          },
          "metadata": {},
          "execution_count": 17
        }
      ]
    },
    {
      "cell_type": "code",
      "metadata": {
        "colab": {
          "base_uri": "https://localhost:8080/"
        },
        "id": "Dx9BTUIQ69Ul",
        "outputId": "d29ae1e7-9d5f-48dc-f46d-296d9ffe2a38"
      },
      "source": [
        "img, label = cifar10[7]\n",
        "img, label"
      ],
      "execution_count": null,
      "outputs": [
        {
          "output_type": "execute_result",
          "data": {
            "text/plain": [
              "(<PIL.Image.Image image mode=RGB size=32x32 at 0x7F7F8B1C0A90>, 7)"
            ]
          },
          "metadata": {},
          "execution_count": 18
        }
      ]
    },
    {
      "cell_type": "code",
      "metadata": {
        "colab": {
          "base_uri": "https://localhost:8080/",
          "height": 266
        },
        "id": "dc_VuBjA7Jle",
        "outputId": "d73d68d2-2039-4267-c325-62ce38958614"
      },
      "source": [
        "plt.imshow(img)\n",
        "plt.show()"
      ],
      "execution_count": null,
      "outputs": [
        {
          "output_type": "display_data",
          "data": {
            "image/png": "[encoded data removed]",
            "text/plain": [
              "<Figure size 432x288 with 1 Axes>"
            ]
          },
          "metadata": {
            "needs_background": "light"
          }
        }
      ]
    },
    {
      "cell_type": "code",
      "metadata": {
        "colab": {
          "base_uri": "https://localhost:8080/"
        },
        "id": "vgSWm6no7S-_",
        "outputId": "a7b128bc-5cbc-4373-d5c8-0f7b7a6b25ee"
      },
      "source": [
        "to_tensor = transforms.ToTensor()\n",
        "img_t = to_tensor(img)\n",
        "img_t.shape # 3-channel(RGB) 32x32 image"
      ],
      "execution_count": null,
      "outputs": [
        {
          "output_type": "execute_result",
          "data": {
            "text/plain": [
              "torch.Size([3, 32, 32])"
            ]
          },
          "metadata": {},
          "execution_count": 20
        }
      ]
    },
    {
      "cell_type": "code",
      "metadata": {
        "id": "9WKbvYmh7k_F"
      },
      "source": [
        "# 한번에 하기\n",
        "tensor_cifar10 = datasets.CIFAR10(cifar_path, train=True, download=False, transform=transforms.ToTensor())"
      ],
      "execution_count": null,
      "outputs": []
    },
    {
      "cell_type": "code",
      "metadata": {
        "id": "Sx9V258J8I-5"
      },
      "source": [
        "img_t, _ = tensor_cifar10[7]\n",
        "type(img_t)"
      ],
      "execution_count": null,
      "outputs": []
    },
    {
      "cell_type": "code",
      "metadata": {
        "id": "ZuZUHmna8gnE"
      },
      "source": [
        "plt.imshow(img_t.permute(1, 2, 0)) # CxHxW(tensor) -> HxWxC(image) , tensor와 이미지의 차원 배열 순서가 다름 \n",
        "plt.show()"
      ],
      "execution_count": null,
      "outputs": []
    },
    {
      "cell_type": "code",
      "metadata": {
        "id": "2zHMM-TO8-O-"
      },
      "source": [
        ""
      ],
      "execution_count": null,
      "outputs": []
    },
    {
      "cell_type": "markdown",
      "metadata": {
        "id": "hNnd4kY79h-b"
      },
      "source": [
        "### 2) Normalization"
      ]
    },
    {
      "cell_type": "code",
      "metadata": {
        "id": "NMD_VltK9mkr"
      },
      "source": [
        "imgs = torch.stack([img_t for img_t, _ in tensor_cifar10], dim=3)\n",
        "imgs.shape"
      ],
      "execution_count": null,
      "outputs": []
    },
    {
      "cell_type": "code",
      "metadata": {
        "id": "qStO-JiI-EWn"
      },
      "source": [
        "imgs.view(3,1024,50000).shape "
      ],
      "execution_count": null,
      "outputs": []
    },
    {
      "cell_type": "code",
      "metadata": {
        "id": "oHVsFpI_-Xar"
      },
      "source": [
        "imgs.view(3,-1).shape # 3 x ? 를 만들어줌 , ?는 pytorch 를 만들어줌 "
      ],
      "execution_count": null,
      "outputs": []
    },
    {
      "cell_type": "code",
      "metadata": {
        "id": "1h18FArq-xJM"
      },
      "source": [
        "imgs.view(3,-1,50000).shape"
      ],
      "execution_count": null,
      "outputs": []
    },
    {
      "cell_type": "code",
      "metadata": {
        "id": "yztRRKYH_p8B"
      },
      "source": [
        "imgs.view(3,-1).mean(dim=1) # (3,51200000) -> mean -> (3,) "
      ],
      "execution_count": null,
      "outputs": []
    },
    {
      "cell_type": "code",
      "metadata": {
        "id": "fJKseYwj_18f"
      },
      "source": [
        "imgs.view(3,-1).std(dim=1)"
      ],
      "execution_count": null,
      "outputs": []
    },
    {
      "cell_type": "code",
      "metadata": {
        "id": "83z0QAztAOni"
      },
      "source": [
        "transforms.Normalize((0.4914, 0.4822, 0.4465), (0.2470, 0.2435, 0.2616))"
      ],
      "execution_count": null,
      "outputs": []
    },
    {
      "cell_type": "code",
      "metadata": {
        "id": "td3dZmnrAYMa"
      },
      "source": [
        "# Totensor과 함께 한번에 하기!\n",
        "transformed_cifar10 = datasets.CIFAR10(\n",
        "    cifar_path,\n",
        "    train=True,\n",
        "    download=False,\n",
        "    transform=transforms.Compose([\n",
        "        transforms.ToTensor(),\n",
        "        transforms.Normalize(\n",
        "            (0.4914, 0.4822, 0.4465),\n",
        "            (0.2470, 0.2435, 0.2616)\n",
        "        )\n",
        "    ])\n",
        ")\n",
        "    "
      ],
      "execution_count": null,
      "outputs": []
    },
    {
      "cell_type": "code",
      "metadata": {
        "id": "UjDuGUVXBoSq"
      },
      "source": [
        "img_t,_ = transformed_cifar10[7]\n",
        "plt.imshow(img_t.permute(1,2,0))\n",
        "plt.show()"
      ],
      "execution_count": null,
      "outputs": []
    },
    {
      "cell_type": "code",
      "metadata": {
        "id": "f4rk_qPtCK1S"
      },
      "source": [
        ""
      ],
      "execution_count": null,
      "outputs": []
    },
    {
      "cell_type": "markdown",
      "metadata": {
        "id": "9V9Ky7pYCpA6"
      },
      "source": [
        "### 3. Convolution"
      ]
    },
    {
      "cell_type": "code",
      "metadata": {
        "id": "5uFuBtcECtHP"
      },
      "source": [
        "conv = nn.Conv2d(3, 16, kernel_size=3) # channel, Batch size, kernel size\n",
        "conv"
      ],
      "execution_count": null,
      "outputs": []
    },
    {
      "cell_type": "code",
      "metadata": {
        "id": "KqD-Rq-2Cz2O"
      },
      "source": [
        "conv.weight.shape, conv.bias.shape"
      ],
      "execution_count": null,
      "outputs": []
    },
    {
      "cell_type": "code",
      "metadata": {
        "id": "kBMGmMdFC4_J"
      },
      "source": [
        "img, _ =tensor_cifar10[7]"
      ],
      "execution_count": null,
      "outputs": []
    },
    {
      "cell_type": "code",
      "metadata": {
        "id": "_Ucmi_PJEM_E"
      },
      "source": [
        "output = conv(img.unsqueeze(0)) # 원하는 자리에 1을 끼워주는거\n",
        "img.unsqueeze(0).shape, output.shape"
      ],
      "execution_count": null,
      "outputs": []
    },
    {
      "cell_type": "code",
      "metadata": {
        "id": "b7RnWoCOESdK"
      },
      "source": [
        "plt.imshow(output[0,0].detach(),cmap='gray') # cmap='gray' 안해주면 생상을 임의로 지정 해준다 \n",
        "plt.show()                     #  detach() == detach.numpy / tensor 는 plt이 안되서  numpy로 바꿔줌 "
      ],
      "execution_count": null,
      "outputs": []
    },
    {
      "cell_type": "code",
      "metadata": {
        "id": "W9HZKI9rGofR"
      },
      "source": [
        "plt.imshow(output[0,1].detach(),cmap='gray') # cmap='gray' 안해주면 생상을 임의로 지정 해준다 \n",
        "plt.show()"
      ],
      "execution_count": null,
      "outputs": []
    },
    {
      "cell_type": "markdown",
      "metadata": {
        "id": "TkxCyNThIPO-"
      },
      "source": [
        "### padding "
      ]
    },
    {
      "cell_type": "code",
      "metadata": {
        "id": "Iz1V2kUzIOb-"
      },
      "source": [
        "conv = nn.Conv2d(3, 16, kernel_size=3, padding=1)\n",
        "output = conv(img.unsqueeze(0))\n",
        "img.unsqueeze(0).shape, output.shape"
      ],
      "execution_count": null,
      "outputs": []
    },
    {
      "cell_type": "code",
      "metadata": {
        "id": "qrpQaa_JIYR0"
      },
      "source": [
        "plt.imshow(output[0,0].detach(),cmap=\"gray\")\n",
        "plt.show()"
      ],
      "execution_count": null,
      "outputs": []
    },
    {
      "cell_type": "code",
      "metadata": {
        "id": "vmCZUVlYJO1M"
      },
      "source": [
        "# edge detection \n",
        "conv = nn.Conv2d(3, 1, kernel_size=3, padding=1)\n",
        "with torch.no_grad(): # no_grad() error backpropagation을 안해줌 : 만약 하게되면 값이 이상하게 나옴\n",
        "    conv.weight[:] = torch.tensor([\n",
        "        [-1.0, -1.0, -1.0], # edge detection kenel 3개중 하나 . 구글링하면 detection종류 별로 다른것도 다 나옴   \n",
        "        [-1.0,  8.0, -1.0],\n",
        "        [-1.0, -1.0, -1.0]\n",
        "    ])\n",
        "    conv.bias.zero_()"
      ],
      "execution_count": null,
      "outputs": []
    },
    {
      "cell_type": "code",
      "metadata": {
        "id": "OfsvRuYkK4Zj"
      },
      "source": [
        "output = conv(img.unsqueeze(0)) \n",
        "plt.imshow(output[0,0].detach(), cmap='gray')\n",
        "plt.show()"
      ],
      "execution_count": null,
      "outputs": []
    },
    {
      "cell_type": "code",
      "metadata": {
        "id": "YqajRypPLE6g"
      },
      "source": [
        ""
      ],
      "execution_count": null,
      "outputs": []
    },
    {
      "cell_type": "markdown",
      "metadata": {
        "id": "eDYL8Z1rLyhp"
      },
      "source": [
        "### 5.pooling"
      ]
    },
    {
      "cell_type": "code",
      "metadata": {
        "id": "waco0WIAL0ba"
      },
      "source": [
        "pool = nn.MaxPool2d(2)\n",
        "output = pool(img.unsqueeze(0))\n",
        "output.shape"
      ],
      "execution_count": null,
      "outputs": []
    },
    {
      "cell_type": "code",
      "metadata": {
        "id": "6exZWWhKL6Ph"
      },
      "source": [
        "plt.imshow(output[0,0].detach(),cmap='gray')\n",
        "plt.show()"
      ],
      "execution_count": null,
      "outputs": []
    },
    {
      "cell_type": "code",
      "metadata": {
        "id": "vnY0w1uDMQ2P"
      },
      "source": [
        "activate = nn.ReLU()\n",
        "conv = nn.Conv2d(3, 16, kernel_size=3, padding=1)\n",
        "output = conv(img.unsqueeze(0))\n",
        "output = activate(output)\n",
        "output = pool(output)\n",
        "\n",
        "plt.imshow(output[0,0].detach(), cmap='gray')\n",
        "plt.show()  "
      ],
      "execution_count": null,
      "outputs": []
    },
    {
      "cell_type": "code",
      "metadata": {
        "id": "o86qRmLZMlIU"
      },
      "source": [
        ""
      ],
      "execution_count": null,
      "outputs": []
    },
    {
      "cell_type": "markdown",
      "metadata": {
        "id": "okTLfP1lNjZk"
      },
      "source": [
        "### 1.1.6 create preprocess Class"
      ]
    },
    {
      "cell_type": "code",
      "metadata": {
        "id": "rqW-ZilWNoLE"
      },
      "source": [
        "class BaseTransform():\n",
        "  \"\"\"\n",
        "    Attributes\n",
        "    ----------\n",
        "    resize:   int\n",
        "    mean: (R,G,B)\n",
        "    std:  (R,G,B)\n",
        "  \"\"\"\n",
        "  def __init__(self,resize,mean,std):\n",
        "    self.base_transform = transforms.Compose([\n",
        "      transforms.Resize(resize),\n",
        "      transforms.CenterCrop(resize),\n",
        "      transforms.ToTensor(),\n",
        "      transforms.Normalize(mean,std)\n",
        "    ])\n",
        "\n",
        "  def __call__(self,img): # 함수가 호풀되면 이 call함수를 불러내온다. 함수역할을 해주게 해줌!\n",
        "    return self.base_transform(img)"
      ],
      "execution_count": null,
      "outputs": []
    },
    {
      "cell_type": "code",
      "metadata": {
        "id": "_d91gInaOkQq"
      },
      "source": [
        "image_path = \"drive/MyDrive/Colab Notebooks/chap1/data/golden.jpg\"\n",
        "img = Image.open(image_path)\n",
        "\n",
        "plt.imshow(img)\n",
        "plt.show()"
      ],
      "execution_count": null,
      "outputs": []
    },
    {
      "cell_type": "code",
      "metadata": {
        "id": "xkeXCYQcPqZU"
      },
      "source": [
        "resize = 224\n",
        "mean = (0.485, 0.456, 0.40) # image net에서 정해진 mean,std가 주어져 있다 \n",
        "std = (0.229, 0.224, 0.225) #  왜냐면 안주어지면 천만장을 다 구해야 하니 ..ㅎㅎㅎ\n",
        "transform = BaseTransform(resize, mean, std)\n",
        "img_transformed = transform(img)\n",
        "img_transformed.shape"
      ],
      "execution_count": null,
      "outputs": []
    },
    {
      "cell_type": "code",
      "metadata": {
        "id": "bfenhzGSTzI3"
      },
      "source": [
        ""
      ],
      "execution_count": null,
      "outputs": []
    },
    {
      "cell_type": "code",
      "metadata": {
        "id": "kRNGfzBBRKbG"
      },
      "source": [
        "img_transformed[0].max(), img_transformed[0].min()"
      ],
      "execution_count": null,
      "outputs": []
    },
    {
      "cell_type": "code",
      "metadata": {
        "id": "irEkyT6QSXrE"
      },
      "source": [
        "plt.imshow(img_transformed.permute(1, 2, 0))\n",
        "plt.show()"
      ],
      "execution_count": null,
      "outputs": []
    },
    {
      "cell_type": "code",
      "metadata": {
        "id": "fbl0aOi5SlBW"
      },
      "source": [
        "img_permuted = img_transformed.permute(1, 2, 0)\n",
        "img_permuted = torch.clip(img_permuted,0,1) # 값의 범위를 0~1로 맞춤 \n",
        "\n",
        "plt.imshow(img_permuted)\n",
        "plt.show()"
      ],
      "execution_count": null,
      "outputs": []
    },
    {
      "cell_type": "code",
      "metadata": {
        "id": "tO3bn-QDS-MP"
      },
      "source": [
        ""
      ],
      "execution_count": null,
      "outputs": []
    },
    {
      "cell_type": "markdown",
      "metadata": {
        "id": "euiDLJLzTZas"
      },
      "source": [
        "## 1.1.7 create post-process clas\n",
        "\n",
        "1. google 에서  imagenet class index 검색\n",
        "2. yrebar의 gist에서 raw를 누른 후 save page as 로 다운로드 \n",
        "3. colab에 업로드"
      ]
    },
    {
      "cell_type": "code",
      "metadata": {
        "id": "jdE8dSJSTf7m"
      },
      "source": [
        "class ILSVRCPredictor():\n",
        "  # class index: dictionary \n",
        "    def __init__(self, class_index):\n",
        "        self.class_index = class_index\n",
        "\n",
        "    def predict_max(self, out):\n",
        "        maxid = torch.argmax(out).item()\n",
        "        predicted_label_name = self.class_index[maxid]\n",
        "        return predicted_label_name"
      ],
      "execution_count": null,
      "outputs": []
    },
    {
      "cell_type": "code",
      "metadata": {
        "id": "hX5_A1GiVNSz"
      },
      "source": [
        ""
      ],
      "execution_count": null,
      "outputs": []
    },
    {
      "cell_type": "markdown",
      "metadata": {
        "id": "LypZOk6pVOHi"
      },
      "source": [
        "### 1.1.8 Use pretrained VGG to predict"
      ]
    },
    {
      "cell_type": "code",
      "metadata": {
        "id": "D3s-FXoaVa5l"
      },
      "source": [
        "with open(\"drive/MyDrive/Colab Notebooks/chap1/data/imgnet1000.txt\") as f : \n",
        "  idx2label = eval(f.read()) # 읽은 것을 python 객체에 대응 \n",
        "\n",
        "idx2label"
      ],
      "execution_count": null,
      "outputs": []
    },
    {
      "cell_type": "code",
      "metadata": {
        "id": "8ZFPplOPVx4P"
      },
      "source": [
        "predictor = ILSVRCPredictor(idx2label)"
      ],
      "execution_count": null,
      "outputs": []
    },
    {
      "cell_type": "code",
      "metadata": {
        "id": "txr_mwRAWJc-"
      },
      "source": [
        "input_img_t = img_transformed.unsqueeze(0)\n",
        "out_img_t = net(input_img_t) \n",
        "result = predictor.predict_max(out_img_t)"
      ],
      "execution_count": null,
      "outputs": []
    },
    {
      "cell_type": "code",
      "metadata": {
        "id": "y6EbMGgbWmMJ"
      },
      "source": [
        "print(\"입력 화상의 예측\",result)"
      ],
      "execution_count": null,
      "outputs": []
    },
    {
      "cell_type": "code",
      "metadata": {
        "id": "vdkXfW-OWxca"
      },
      "source": [
        ""
      ],
      "execution_count": null,
      "outputs": []
    },
    {
      "cell_type": "markdown",
      "metadata": {
        "id": "0EtWE1lBW6dF"
      },
      "source": [
        "### 1.2.1 deeplearning flow for pytorch\n",
        "\n",
        "1. 전처리, 후처리 ,네트워크 모델의 입출력 확인\n",
        "2. 데이터 셋 작성\n",
        "3. 데이터 로더 작성\n",
        "4. 네트워크 모델 작성\n",
        "5. For ward 정의\n",
        "6. loss 함수 정의\n",
        "7. optimizer 기법 정의\n",
        "8. 학습/검증 실시(train/vaildate)\n",
        "9. 테스트 데이터로 주문 (test)"
      ]
    },
    {
      "cell_type": "code",
      "metadata": {
        "id": "vhk9GfJ8XdPi"
      },
      "source": [
        ""
      ],
      "execution_count": null,
      "outputs": []
    }
  ]
}