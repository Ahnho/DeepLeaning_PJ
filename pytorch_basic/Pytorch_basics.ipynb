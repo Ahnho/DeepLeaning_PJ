{
  "nbformat": 4,
  "nbformat_minor": 0,
  "metadata": {
    "colab": {
      "name": "Pytorch_basics.ipynb",
      "provenance": [],
      "collapsed_sections": []
    },
    "kernelspec": {
      "name": "python3",
      "display_name": "Python 3"
    },
    "language_info": {
      "name": "python"
    },
    "accelerator": "GPU"
  },
  "cells": [
    {
      "cell_type": "markdown",
      "metadata": {
        "id": "yz030qZL5YYA"
      },
      "source": [
        "\n",
        "## 1. Tensors"
      ]
    },
    {
      "cell_type": "code",
      "metadata": {
        "id": "IJdgzdML5FIo"
      },
      "source": [
        "import torch\n",
        "import numpy as np\n",
        "from torch import nn"
      ],
      "execution_count": null,
      "outputs": []
    },
    {
      "cell_type": "code",
      "metadata": {
        "colab": {
          "base_uri": "https://localhost:8080/",
          "height": 35
        },
        "id": "61F6vqxO5sSP",
        "outputId": "54f36a97-40b5-4870-9ca5-f92a2380bcd5"
      },
      "source": [
        "device = \"cuda\" if torch.cuda.is_available() else \"cpu\"\n",
        "device"
      ],
      "execution_count": null,
      "outputs": [
        {
          "output_type": "execute_result",
          "data": {
            "application/vnd.google.colaboratory.intrinsic+json": {
              "type": "string"
            },
            "text/plain": [
              "'cuda'"
            ]
          },
          "metadata": {},
          "execution_count": 2
        }
      ]
    },
    {
      "cell_type": "code",
      "metadata": {
        "colab": {
          "base_uri": "https://localhost:8080/"
        },
        "id": "iNiYqlS5561P",
        "outputId": "c599cbbc-ade7-4833-e677-8e042c2fab48"
      },
      "source": [
        "# Numpy\n",
        "a = np.zeros((5,5)) # 5x5 zero Matrix\n",
        "b = np.ones((5,5)) # 5x5 ones  Matrix\n",
        "c = np.random.rand(5,5) # 5x5 random Matrix \n",
        "\n",
        "print(a)\n",
        "print(b)\n",
        "print(c)"
      ],
      "execution_count": null,
      "outputs": [
        {
          "output_type": "stream",
          "name": "stdout",
          "text": [
            "[[0. 0. 0. 0. 0.]\n",
            " [0. 0. 0. 0. 0.]\n",
            " [0. 0. 0. 0. 0.]\n",
            " [0. 0. 0. 0. 0.]\n",
            " [0. 0. 0. 0. 0.]]\n",
            "[[1. 1. 1. 1. 1.]\n",
            " [1. 1. 1. 1. 1.]\n",
            " [1. 1. 1. 1. 1.]\n",
            " [1. 1. 1. 1. 1.]\n",
            " [1. 1. 1. 1. 1.]]\n",
            "[[0.837048   0.60093064 0.57334265 0.33944183 0.6978507 ]\n",
            " [0.06567256 0.68372126 0.1320196  0.72863137 0.36563264]\n",
            " [0.94457699 0.00288996 0.4288324  0.98657529 0.14381706]\n",
            " [0.74250896 0.9064287  0.15484291 0.53133911 0.41739447]\n",
            " [0.78390429 0.14420735 0.39309681 0.32183039 0.91485756]]\n"
          ]
        }
      ]
    },
    {
      "cell_type": "code",
      "metadata": {
        "colab": {
          "base_uri": "https://localhost:8080/"
        },
        "id": "6o7zNe-y6POo",
        "outputId": "73139a75-a628-4d4f-d3e0-ca4a4b4d4578"
      },
      "source": [
        "# Pytorch\n",
        "q = torch.zeros((5,5))\n",
        "p = torch.ones((5,5))\n",
        "r = torch.rand((5,5))\n",
        "\n",
        "print(q)\n",
        "print(p)\n",
        "print(r)"
      ],
      "execution_count": null,
      "outputs": [
        {
          "output_type": "stream",
          "name": "stdout",
          "text": [
            "tensor([[0., 0., 0., 0., 0.],\n",
            "        [0., 0., 0., 0., 0.],\n",
            "        [0., 0., 0., 0., 0.],\n",
            "        [0., 0., 0., 0., 0.],\n",
            "        [0., 0., 0., 0., 0.]])\n",
            "tensor([[1., 1., 1., 1., 1.],\n",
            "        [1., 1., 1., 1., 1.],\n",
            "        [1., 1., 1., 1., 1.],\n",
            "        [1., 1., 1., 1., 1.],\n",
            "        [1., 1., 1., 1., 1.]])\n",
            "tensor([[0.0886, 0.7538, 0.6960, 0.6997, 0.8421],\n",
            "        [0.1442, 0.7614, 0.8007, 0.0600, 0.2722],\n",
            "        [0.3938, 0.1616, 0.8353, 0.1772, 0.2406],\n",
            "        [0.9120, 0.8453, 0.4606, 0.3511, 0.5998],\n",
            "        [0.6719, 0.0721, 0.8829, 0.9798, 0.5669]])\n"
          ]
        }
      ]
    },
    {
      "cell_type": "code",
      "metadata": {
        "colab": {
          "base_uri": "https://localhost:8080/"
        },
        "id": "JIkBCGKR6n5W",
        "outputId": "a4033156-8401-4eb7-df16-d7e489132efc"
      },
      "source": [
        "s = torch.from_numpy(c)\n",
        "s"
      ],
      "execution_count": null,
      "outputs": [
        {
          "output_type": "execute_result",
          "data": {
            "text/plain": [
              "tensor([[0.8370, 0.6009, 0.5733, 0.3394, 0.6979],\n",
              "        [0.0657, 0.6837, 0.1320, 0.7286, 0.3656],\n",
              "        [0.9446, 0.0029, 0.4288, 0.9866, 0.1438],\n",
              "        [0.7425, 0.9064, 0.1548, 0.5313, 0.4174],\n",
              "        [0.7839, 0.1442, 0.3931, 0.3218, 0.9149]], dtype=torch.float64)"
            ]
          },
          "metadata": {},
          "execution_count": 5
        }
      ]
    },
    {
      "cell_type": "code",
      "metadata": {
        "colab": {
          "base_uri": "https://localhost:8080/"
        },
        "id": "qJt40qi4-_Gt",
        "outputId": "a0b7185f-dd2d-4a1f-f869-6388fed39152"
      },
      "source": [
        "s[0,0]"
      ],
      "execution_count": null,
      "outputs": [
        {
          "output_type": "execute_result",
          "data": {
            "text/plain": [
              "tensor(0.8370, dtype=torch.float64)"
            ]
          },
          "metadata": {},
          "execution_count": 6
        }
      ]
    },
    {
      "cell_type": "code",
      "metadata": {
        "colab": {
          "base_uri": "https://localhost:8080/"
        },
        "id": "wOV-Ufec6xOZ",
        "outputId": "36f75d2d-a5d3-4df3-a0ff-179578082cae"
      },
      "source": [
        "s[0,0].item()"
      ],
      "execution_count": null,
      "outputs": [
        {
          "output_type": "execute_result",
          "data": {
            "text/plain": [
              "0.8370479998707208"
            ]
          },
          "metadata": {},
          "execution_count": 7
        }
      ]
    },
    {
      "cell_type": "code",
      "metadata": {
        "colab": {
          "base_uri": "https://localhost:8080/"
        },
        "id": "WrATCj107EKz",
        "outputId": "d6885d24-723b-4784-ef4b-4a4ce52ce3d9"
      },
      "source": [
        "s+r"
      ],
      "execution_count": null,
      "outputs": [
        {
          "output_type": "execute_result",
          "data": {
            "text/plain": [
              "tensor([[0.9257, 1.3548, 1.2693, 1.0391, 1.5400],\n",
              "        [0.2099, 1.4452, 0.9327, 0.7886, 0.6378],\n",
              "        [1.3384, 0.1645, 1.2642, 1.1638, 0.3844],\n",
              "        [1.6545, 1.7517, 0.6155, 0.8824, 1.0172],\n",
              "        [1.4558, 0.2163, 1.2760, 1.3017, 1.4818]], dtype=torch.float64)"
            ]
          },
          "metadata": {},
          "execution_count": 8
        }
      ]
    },
    {
      "cell_type": "code",
      "metadata": {
        "colab": {
          "base_uri": "https://localhost:8080/"
        },
        "id": "EbrgObX67T2T",
        "outputId": "4fce4138-7586-4191-dfa8-692e46eb9698"
      },
      "source": [
        "(s+r).to(device)"
      ],
      "execution_count": null,
      "outputs": [
        {
          "output_type": "execute_result",
          "data": {
            "text/plain": [
              "tensor([[0.9257, 1.3548, 1.2693, 1.0391, 1.5400],\n",
              "        [0.2099, 1.4452, 0.9327, 0.7886, 0.6378],\n",
              "        [1.3384, 0.1645, 1.2642, 1.1638, 0.3844],\n",
              "        [1.6545, 1.7517, 0.6155, 0.8824, 1.0172],\n",
              "        [1.4558, 0.2163, 1.2760, 1.3017, 1.4818]], device='cuda:0',\n",
              "       dtype=torch.float64)"
            ]
          },
          "metadata": {},
          "execution_count": 9
        }
      ]
    },
    {
      "cell_type": "code",
      "metadata": {
        "colab": {
          "base_uri": "https://localhost:8080/"
        },
        "id": "4MO2BGUn7aQa",
        "outputId": "b2acd144-04dd-4dd5-d305-7dc819e31e0a"
      },
      "source": [
        "s.float()"
      ],
      "execution_count": null,
      "outputs": [
        {
          "output_type": "execute_result",
          "data": {
            "text/plain": [
              "tensor([[0.8370, 0.6009, 0.5733, 0.3394, 0.6979],\n",
              "        [0.0657, 0.6837, 0.1320, 0.7286, 0.3656],\n",
              "        [0.9446, 0.0029, 0.4288, 0.9866, 0.1438],\n",
              "        [0.7425, 0.9064, 0.1548, 0.5313, 0.4174],\n",
              "        [0.7839, 0.1442, 0.3931, 0.3218, 0.9149]])"
            ]
          },
          "metadata": {},
          "execution_count": 10
        }
      ]
    },
    {
      "cell_type": "code",
      "metadata": {
        "colab": {
          "base_uri": "https://localhost:8080/"
        },
        "id": "YNKfmP7j8HMB",
        "outputId": "1dffa22b-018c-4758-aa66-74f5ebf2b835"
      },
      "source": [
        "# float64 가 나오면  float을 붙여 바꿔줌\n",
        "(s+r).float().to(device)"
      ],
      "execution_count": null,
      "outputs": [
        {
          "output_type": "execute_result",
          "data": {
            "text/plain": [
              "tensor([[0.9257, 1.3548, 1.2693, 1.0391, 1.5400],\n",
              "        [0.2099, 1.4452, 0.9327, 0.7886, 0.6378],\n",
              "        [1.3384, 0.1645, 1.2642, 1.1638, 0.3844],\n",
              "        [1.6545, 1.7517, 0.6155, 0.8824, 1.0172],\n",
              "        [1.4558, 0.2163, 1.2760, 1.3017, 1.4818]], device='cuda:0')"
            ]
          },
          "metadata": {},
          "execution_count": 11
        }
      ]
    },
    {
      "cell_type": "markdown",
      "metadata": {
        "id": "bbwOqRvT8dzT"
      },
      "source": [
        "##   2.Linear Regression with Pytorch"
      ]
    },
    {
      "cell_type": "code",
      "metadata": {
        "id": "UPxZPUcC8TgB",
        "colab": {
          "base_uri": "https://localhost:8080/"
        },
        "outputId": "f72fa949-966c-4f51-81f5-d76c5d3b2aad"
      },
      "source": [
        "# Data generation with hands\n",
        "x = torch.arange(0,1,0.1)\n",
        "y = 2*x -1 + torch.randn(len(x))\n"
      ],
      "execution_count": null,
      "outputs": [
        {
          "output_type": "execute_result",
          "data": {
            "text/plain": [
              "tensor([0.0000, 0.1000, 0.2000, 0.3000, 0.4000, 0.5000, 0.6000, 0.7000, 0.8000,\n",
              "        0.9000])"
            ]
          },
          "metadata": {},
          "execution_count": 37
        }
      ]
    },
    {
      "cell_type": "code",
      "metadata": {
        "id": "ZLfscA5882RA"
      },
      "source": [
        "import matplotlib.pyplot as plt"
      ],
      "execution_count": null,
      "outputs": []
    },
    {
      "cell_type": "code",
      "metadata": {
        "colab": {
          "base_uri": "https://localhost:8080/",
          "height": 282
        },
        "id": "gwpAn4-99CKs",
        "outputId": "e402cc84-fb45-42bc-9e03-6ed0b935da40"
      },
      "source": [
        "plt.plot(x,y,'.')"
      ],
      "execution_count": null,
      "outputs": [
        {
          "output_type": "execute_result",
          "data": {
            "text/plain": [
              "[<matplotlib.lines.Line2D at 0x7fd74d6bfcd0>]"
            ]
          },
          "metadata": {},
          "execution_count": 14
        },
        {
          "output_type": "display_data",
          "data": {
            "image/png": "[encoded data removed]",
            "text/plain": [
              "<Figure size 432x288 with 1 Axes>"
            ]
          },
          "metadata": {
            "needs_background": "light"
          }
        }
      ]
    },
    {
      "cell_type": "code",
      "metadata": {
        "id": "UmFXj9ru9Irb"
      },
      "source": [
        "# For validation\n",
        "x_val = torch.arange(0,1,0.2)\n",
        "y_val = 2*x_val -1 + 0.1 *torch.randn(len(x_val))"
      ],
      "execution_count": null,
      "outputs": []
    },
    {
      "cell_type": "code",
      "metadata": {
        "colab": {
          "base_uri": "https://localhost:8080/",
          "height": 282
        },
        "id": "eaIgwos_9i7z",
        "outputId": "459de51d-f529-40c0-856c-13438bda3aea"
      },
      "source": [
        "plt.plot(x_val,y_val,'.')"
      ],
      "execution_count": null,
      "outputs": [
        {
          "output_type": "execute_result",
          "data": {
            "text/plain": [
              "[<matplotlib.lines.Line2D at 0x7fd6ebb56a50>]"
            ]
          },
          "metadata": {},
          "execution_count": 36
        },
        {
          "output_type": "display_data",
          "data": {
            "image/png": "[encoded data removed]",
            "text/plain": [
              "<Figure size 432x288 with 1 Axes>"
            ]
          },
          "metadata": {
            "needs_background": "light"
          }
        }
      ]
    },
    {
      "cell_type": "code",
      "metadata": {
        "id": "8iXktAKu9o4E"
      },
      "source": [
        "# For test ..."
      ],
      "execution_count": null,
      "outputs": []
    },
    {
      "cell_type": "code",
      "metadata": {
        "id": "5RsLl5mF9sUG"
      },
      "source": [
        "# PtTorch`s way to generate Dataset\n",
        "from torch.utils.data import Dataset,DataLoader"
      ],
      "execution_count": null,
      "outputs": []
    },
    {
      "cell_type": "code",
      "metadata": {
        "id": "BhgCJUxD-CCT"
      },
      "source": [
        "class LinearData(Dataset):\n",
        "  def __init__(self,range):\n",
        "    start,end,step = range\n",
        "    self.x = torch.arange(start,end,step).float()\n",
        "    self.y = 2*self.x - 1 + 0.1 * torch.randn(len(self.x))\n",
        "    self.y = self.y.view(len(self.x),1)\n",
        "    self.input = self.x.view(len(self.x),1)\n",
        "  def __len__(self):\n",
        "    return len(self.x)\n",
        "  \n",
        "  def __getitem__(self,idx):\n",
        "    return self.input[idx],self.y[idx]"
      ],
      "execution_count": null,
      "outputs": []
    },
    {
      "cell_type": "code",
      "metadata": {
        "colab": {
          "base_uri": "https://localhost:8080/"
        },
        "id": "v0gz0B8i_R9R",
        "outputId": "eca62e47-c16c-4fdd-c211-bab112b489a7"
      },
      "source": [
        "train_dataset = LinearData((0,1,0.001))\n",
        "train_dataset[:5]"
      ],
      "execution_count": null,
      "outputs": [
        {
          "output_type": "execute_result",
          "data": {
            "text/plain": [
              "(tensor([[0.0000],\n",
              "         [0.0010],\n",
              "         [0.0020],\n",
              "         [0.0030],\n",
              "         [0.0040]]), tensor([[-0.9874],\n",
              "         [-1.0807],\n",
              "         [-1.0950],\n",
              "         [-1.0610],\n",
              "         [-0.9731]]))"
            ]
          },
          "metadata": {},
          "execution_count": 39
        }
      ]
    },
    {
      "cell_type": "code",
      "metadata": {
        "colab": {
          "base_uri": "https://localhost:8080/"
        },
        "id": "klPrm5Cp_eoL",
        "outputId": "f28225a5-363b-4992-b0e1-3c8cba7bc33f"
      },
      "source": [
        "train_loader = DataLoader(train_dataset,batch_size=100,shuffle=True)\n",
        "\n",
        "for x,y in train_loader:\n",
        "  print(x[:10])\n",
        "  print(y[:10])\n",
        "  break"
      ],
      "execution_count": null,
      "outputs": [
        {
          "output_type": "stream",
          "name": "stdout",
          "text": [
            "tensor([[0.8370],\n",
            "        [0.3700],\n",
            "        [0.4310],\n",
            "        [0.9550],\n",
            "        [0.4540],\n",
            "        [0.0390],\n",
            "        [0.9240],\n",
            "        [0.1540],\n",
            "        [0.1670],\n",
            "        [0.2030]])\n",
            "tensor([[ 0.6172],\n",
            "        [-0.3766],\n",
            "        [ 0.0249],\n",
            "        [ 1.1506],\n",
            "        [-0.1948],\n",
            "        [-0.9171],\n",
            "        [ 0.7434],\n",
            "        [-0.8040],\n",
            "        [-0.5893],\n",
            "        [-0.7794]])\n"
          ]
        }
      ]
    },
    {
      "cell_type": "code",
      "metadata": {
        "id": "vTOpjWS4AsEL"
      },
      "source": [
        "val_dataset = LinearData((0,1,0.1))\n",
        "# val 은  shuffle 안하는데 성능에좋다\n",
        "val_loader = DataLoader(val_dataset,batch_size = 10)"
      ],
      "execution_count": null,
      "outputs": []
    },
    {
      "cell_type": "code",
      "metadata": {
        "id": "F0v7LwxdBgni"
      },
      "source": [
        "test_dataset = LinearData((0,10,1))\n",
        "test_loader = DataLoader(test_dataset, batch_size = 10)"
      ],
      "execution_count": null,
      "outputs": []
    },
    {
      "cell_type": "code",
      "metadata": {
        "id": "YMTVcDrWBvHs"
      },
      "source": [
        "# Neural Network\n",
        "class LinearNet(nn.Module):\n",
        "  def __init__(self):\n",
        "    super(LinearNet,self).__init__() # weight 초기화 등등 때문에 상속 받아야한다 . \n",
        "    self.model = nn.Sequential(\n",
        "        nn.Linear(1,1) # input 1 , output 1\n",
        "    )\n",
        "  def forward(self,x):\n",
        "    return self.model(x)    "
      ],
      "execution_count": null,
      "outputs": []
    },
    {
      "cell_type": "code",
      "metadata": {
        "id": "lbgsaQr5EIKi"
      },
      "source": [
        "net = LinearNet().to(device)"
      ],
      "execution_count": null,
      "outputs": []
    },
    {
      "cell_type": "code",
      "metadata": {
        "colab": {
          "base_uri": "https://localhost:8080/"
        },
        "id": "almn71mJEuFO",
        "outputId": "c671ff14-139f-4151-b607-313fcbab35c5"
      },
      "source": [
        "criterion = nn.MSELoss(())\n",
        "optimizer = torch.optim.Adam(net.parameters(),lr=0.01)"
      ],
      "execution_count": null,
      "outputs": [
        {
          "output_type": "stream",
          "name": "stderr",
          "text": [
            "/usr/local/lib/python3.7/dist-packages/torch/nn/_reduction.py:42: UserWarning: size_average and reduce args will be deprecated, please use reduction='sum' instead.\n",
            "  warnings.warn(warning.format(ret))\n"
          ]
        }
      ]
    },
    {
      "cell_type": "code",
      "metadata": {
        "id": "beg9Mv0IFc83"
      },
      "source": [
        "def train(dataloader, model, critertion, optimizer):\n",
        "  size = len(dataloader.dataset)\n",
        "  model.train() \n",
        "\n",
        "  for batch, data in enumerate(dataloader):\n",
        "    X,y = data # Data in CPU \n",
        "    X,y = X.to(device), y.to(device) # to GPU\n",
        "\n",
        "    # Forward\n",
        "    out = model(X) # forward\n",
        "    loss = criterion(out,y) # Calculate loss\n",
        "\n",
        "    # Eroor backpropagation\n",
        "    optimizer.zero_grad() # Gradient 초기화\n",
        "    loss.backward() # Backward loss 계산\n",
        "    optimizer.step() # Gradient 업데이트\n",
        "    if batch % 5 == 0:\n",
        "      print(f\"#{batch} Batch : Training Loss:{loss:>8f}\")"
      ],
      "execution_count": null,
      "outputs": []
    },
    {
      "cell_type": "code",
      "metadata": {
        "colab": {
          "base_uri": "https://localhost:8080/"
        },
        "id": "wAVzYmOeHR--",
        "outputId": "fd653931-fc44-4925-ddd4-6c297858e44f"
      },
      "source": [
        "epochs = 10\n",
        "for epoch in range(epochs):\n",
        "  print(f\"#{epoch} ---------------Epoch------------------------\")\n",
        "  train(train_loader,net,criterion,optimizer)\n",
        "  print()"
      ],
      "execution_count": null,
      "outputs": [
        {
          "output_type": "stream",
          "name": "stdout",
          "text": [
            "#0 ---------------Epoch------------------------\n",
            "#0 Batch : Training Loss:40.568756\n",
            "#5 Batch : Training Loss:42.006401\n",
            "\n",
            "#1 ---------------Epoch------------------------\n",
            "#0 Batch : Training Loss:30.717936\n",
            "#5 Batch : Training Loss:32.031059\n",
            "\n",
            "#2 ---------------Epoch------------------------\n",
            "#0 Batch : Training Loss:22.017361\n",
            "#5 Batch : Training Loss:15.819109\n",
            "\n",
            "#3 ---------------Epoch------------------------\n",
            "#0 Batch : Training Loss:13.214447\n",
            "#5 Batch : Training Loss:10.937173\n",
            "\n",
            "#4 ---------------Epoch------------------------\n",
            "#0 Batch : Training Loss:12.029088\n",
            "#5 Batch : Training Loss:8.962704\n",
            "\n",
            "#5 ---------------Epoch------------------------\n",
            "#0 Batch : Training Loss:9.632392\n",
            "#5 Batch : Training Loss:8.544584\n",
            "\n",
            "#6 ---------------Epoch------------------------\n",
            "#0 Batch : Training Loss:8.469035\n",
            "#5 Batch : Training Loss:9.633257\n",
            "\n",
            "#7 ---------------Epoch------------------------\n",
            "#0 Batch : Training Loss:8.316459\n",
            "#5 Batch : Training Loss:6.427209\n",
            "\n",
            "#8 ---------------Epoch------------------------\n",
            "#0 Batch : Training Loss:7.979639\n",
            "#5 Batch : Training Loss:9.544440\n",
            "\n",
            "#9 ---------------Epoch------------------------\n",
            "#0 Batch : Training Loss:8.946275\n",
            "#5 Batch : Training Loss:7.204777\n",
            "\n"
          ]
        }
      ]
    },
    {
      "cell_type": "code",
      "metadata": {
        "id": "ulbTNay9HZ9W"
      },
      "source": [
        "def val_check(dataloader, model, critertion):\n",
        "  size = len(dataloader.dataset)\n",
        "  model.eval() # evaluation 모드 (수정 X,계산)\n",
        "\n",
        "  for batch, data in enumerate(dataloader):\n",
        "    X,y = data # Data in CPU \n",
        "    X,y = X.to(device), y.to(device) # to GPU\n",
        "\n",
        "    # Forward\n",
        "    out = model(X) # forward\n",
        "    loss = criterion(out,y) # Calculate loss\n",
        "\n",
        "\n",
        "    print(f\"Validity Loss :{loss:>8f}\")"
      ],
      "execution_count": null,
      "outputs": []
    },
    {
      "cell_type": "code",
      "metadata": {
        "colab": {
          "base_uri": "https://localhost:8080/"
        },
        "id": "S5Dk9aMAJ_AB",
        "outputId": "a38780b9-fdfd-42e8-8301-913065eff484"
      },
      "source": [
        "epochs = 100\n",
        "for epoch in range(epochs):\n",
        "  print(f\"#{epoch} ---------------Epoch------------------------\")\n",
        "  train(train_loader,net,criterion,optimizer)\n",
        "  val_check(val_loader,net,criterion)\n",
        "  print()"
      ],
      "execution_count": null,
      "outputs": [
        {
          "output_type": "stream",
          "name": "stdout",
          "text": [
            "#0 ---------------Epoch------------------------\n",
            "#0 Batch : Training Loss:6.879791\n",
            "#5 Batch : Training Loss:5.416719\n",
            "Validity Loss :0.985682\n",
            "\n",
            "#1 ---------------Epoch------------------------\n",
            "#0 Batch : Training Loss:5.976114\n",
            "#5 Batch : Training Loss:5.096848\n",
            "Validity Loss :0.929561\n",
            "\n",
            "#2 ---------------Epoch------------------------\n",
            "#0 Batch : Training Loss:5.848579\n",
            "#5 Batch : Training Loss:6.404454\n",
            "Validity Loss :0.875842\n",
            "\n",
            "#3 ---------------Epoch------------------------\n",
            "#0 Batch : Training Loss:5.156446\n",
            "#5 Batch : Training Loss:5.351152\n",
            "Validity Loss :0.824622\n",
            "\n",
            "#4 ---------------Epoch------------------------\n",
            "#0 Batch : Training Loss:5.344440\n",
            "#5 Batch : Training Loss:4.778943\n",
            "Validity Loss :0.775565\n",
            "\n",
            "#5 ---------------Epoch------------------------\n",
            "#0 Batch : Training Loss:4.729265\n",
            "#5 Batch : Training Loss:3.628485\n",
            "Validity Loss :0.728379\n",
            "\n",
            "#6 ---------------Epoch------------------------\n",
            "#0 Batch : Training Loss:4.490667\n",
            "#5 Batch : Training Loss:3.979174\n",
            "Validity Loss :0.683605\n",
            "\n",
            "#7 ---------------Epoch------------------------\n",
            "#0 Batch : Training Loss:4.277474\n",
            "#5 Batch : Training Loss:3.843184\n",
            "Validity Loss :0.641093\n",
            "\n",
            "#8 ---------------Epoch------------------------\n",
            "#0 Batch : Training Loss:3.138809\n",
            "#5 Batch : Training Loss:3.596608\n",
            "Validity Loss :0.601395\n",
            "\n",
            "#9 ---------------Epoch------------------------\n",
            "#0 Batch : Training Loss:3.195058\n",
            "#5 Batch : Training Loss:3.082037\n",
            "Validity Loss :0.563641\n",
            "\n",
            "#10 ---------------Epoch------------------------\n",
            "#0 Batch : Training Loss:3.311259\n",
            "#5 Batch : Training Loss:2.996809\n",
            "Validity Loss :0.529210\n",
            "\n",
            "#11 ---------------Epoch------------------------\n",
            "#0 Batch : Training Loss:3.509546\n",
            "#5 Batch : Training Loss:2.423115\n",
            "Validity Loss :0.495727\n",
            "\n",
            "#12 ---------------Epoch------------------------\n",
            "#0 Batch : Training Loss:2.759821\n",
            "#5 Batch : Training Loss:2.986921\n",
            "Validity Loss :0.465535\n",
            "\n",
            "#13 ---------------Epoch------------------------\n",
            "#0 Batch : Training Loss:2.840254\n",
            "#5 Batch : Training Loss:3.116262\n",
            "Validity Loss :0.437008\n",
            "\n",
            "#14 ---------------Epoch------------------------\n",
            "#0 Batch : Training Loss:2.350758\n",
            "#5 Batch : Training Loss:2.261792\n",
            "Validity Loss :0.411323\n",
            "\n",
            "#15 ---------------Epoch------------------------\n",
            "#0 Batch : Training Loss:2.255274\n",
            "#5 Batch : Training Loss:2.287686\n",
            "Validity Loss :0.386851\n",
            "\n",
            "#16 ---------------Epoch------------------------\n",
            "#0 Batch : Training Loss:2.388347\n",
            "#5 Batch : Training Loss:2.454131\n",
            "Validity Loss :0.363976\n",
            "\n",
            "#17 ---------------Epoch------------------------\n",
            "#0 Batch : Training Loss:2.159307\n",
            "#5 Batch : Training Loss:2.133916\n",
            "Validity Loss :0.343297\n",
            "\n",
            "#18 ---------------Epoch------------------------\n",
            "#0 Batch : Training Loss:2.077473\n",
            "#5 Batch : Training Loss:1.706995\n",
            "Validity Loss :0.324430\n",
            "\n",
            "#19 ---------------Epoch------------------------\n",
            "#0 Batch : Training Loss:1.504058\n",
            "#5 Batch : Training Loss:1.884228\n",
            "Validity Loss :0.307265\n",
            "\n",
            "#20 ---------------Epoch------------------------\n",
            "#0 Batch : Training Loss:1.762041\n",
            "#5 Batch : Training Loss:1.423934\n",
            "Validity Loss :0.291474\n",
            "\n",
            "#21 ---------------Epoch------------------------\n",
            "#0 Batch : Training Loss:1.575361\n",
            "#5 Batch : Training Loss:1.679054\n",
            "Validity Loss :0.276450\n",
            "\n",
            "#22 ---------------Epoch------------------------\n",
            "#0 Batch : Training Loss:1.386519\n",
            "#5 Batch : Training Loss:1.413241\n",
            "Validity Loss :0.263556\n",
            "\n",
            "#23 ---------------Epoch------------------------\n",
            "#0 Batch : Training Loss:1.642400\n",
            "#5 Batch : Training Loss:1.269294\n",
            "Validity Loss :0.250964\n",
            "\n",
            "#24 ---------------Epoch------------------------\n",
            "#0 Batch : Training Loss:1.301759\n",
            "#5 Batch : Training Loss:1.416858\n",
            "Validity Loss :0.240063\n",
            "\n",
            "#25 ---------------Epoch------------------------\n",
            "#0 Batch : Training Loss:1.510965\n",
            "#5 Batch : Training Loss:1.344301\n",
            "Validity Loss :0.229846\n",
            "\n",
            "#26 ---------------Epoch------------------------\n",
            "#0 Batch : Training Loss:1.306086\n",
            "#5 Batch : Training Loss:1.384534\n",
            "Validity Loss :0.221462\n",
            "\n",
            "#27 ---------------Epoch------------------------\n",
            "#0 Batch : Training Loss:1.413865\n",
            "#5 Batch : Training Loss:1.165786\n",
            "Validity Loss :0.212717\n",
            "\n",
            "#28 ---------------Epoch------------------------\n",
            "#0 Batch : Training Loss:1.131531\n",
            "#5 Batch : Training Loss:1.373174\n",
            "Validity Loss :0.205500\n",
            "\n",
            "#29 ---------------Epoch------------------------\n",
            "#0 Batch : Training Loss:1.180692\n",
            "#5 Batch : Training Loss:0.939625\n",
            "Validity Loss :0.198462\n",
            "\n",
            "#30 ---------------Epoch------------------------\n",
            "#0 Batch : Training Loss:1.216934\n",
            "#5 Batch : Training Loss:1.074435\n",
            "Validity Loss :0.191693\n",
            "\n",
            "#31 ---------------Epoch------------------------\n",
            "#0 Batch : Training Loss:1.124103\n",
            "#5 Batch : Training Loss:1.150758\n",
            "Validity Loss :0.186594\n",
            "\n",
            "#32 ---------------Epoch------------------------\n",
            "#0 Batch : Training Loss:1.291553\n",
            "#5 Batch : Training Loss:0.846060\n",
            "Validity Loss :0.181689\n",
            "\n",
            "#33 ---------------Epoch------------------------\n",
            "#0 Batch : Training Loss:1.318293\n",
            "#5 Batch : Training Loss:0.883973\n",
            "Validity Loss :0.176478\n",
            "\n",
            "#34 ---------------Epoch------------------------\n",
            "#0 Batch : Training Loss:1.178219\n",
            "#5 Batch : Training Loss:0.719591\n",
            "Validity Loss :0.171906\n",
            "\n",
            "#35 ---------------Epoch------------------------\n",
            "#0 Batch : Training Loss:1.011422\n",
            "#5 Batch : Training Loss:1.272495\n",
            "Validity Loss :0.168433\n",
            "\n",
            "#36 ---------------Epoch------------------------\n",
            "#0 Batch : Training Loss:1.216393\n",
            "#5 Batch : Training Loss:1.152618\n",
            "Validity Loss :0.165415\n",
            "\n",
            "#37 ---------------Epoch------------------------\n",
            "#0 Batch : Training Loss:1.122675\n",
            "#5 Batch : Training Loss:1.046660\n",
            "Validity Loss :0.162838\n",
            "\n",
            "#38 ---------------Epoch------------------------\n",
            "#0 Batch : Training Loss:0.944597\n",
            "#5 Batch : Training Loss:1.066597\n",
            "Validity Loss :0.159865\n",
            "\n",
            "#39 ---------------Epoch------------------------\n",
            "#0 Batch : Training Loss:0.869879\n",
            "#5 Batch : Training Loss:0.748654\n",
            "Validity Loss :0.157166\n",
            "\n",
            "#40 ---------------Epoch------------------------\n",
            "#0 Batch : Training Loss:1.163921\n",
            "#5 Batch : Training Loss:1.002518\n",
            "Validity Loss :0.154840\n",
            "\n",
            "#41 ---------------Epoch------------------------\n",
            "#0 Batch : Training Loss:1.001476\n",
            "#5 Batch : Training Loss:1.251378\n",
            "Validity Loss :0.151782\n",
            "\n",
            "#42 ---------------Epoch------------------------\n",
            "#0 Batch : Training Loss:0.983066\n",
            "#5 Batch : Training Loss:1.014922\n",
            "Validity Loss :0.150331\n",
            "\n",
            "#43 ---------------Epoch------------------------\n",
            "#0 Batch : Training Loss:0.975752\n",
            "#5 Batch : Training Loss:1.046183\n",
            "Validity Loss :0.149520\n",
            "\n",
            "#44 ---------------Epoch------------------------\n",
            "#0 Batch : Training Loss:0.823149\n",
            "#5 Batch : Training Loss:0.754407\n",
            "Validity Loss :0.147745\n",
            "\n",
            "#45 ---------------Epoch------------------------\n",
            "#0 Batch : Training Loss:0.984607\n",
            "#5 Batch : Training Loss:1.040087\n",
            "Validity Loss :0.146464\n",
            "\n",
            "#46 ---------------Epoch------------------------\n",
            "#0 Batch : Training Loss:1.066067\n",
            "#5 Batch : Training Loss:1.028527\n",
            "Validity Loss :0.144685\n",
            "\n",
            "#47 ---------------Epoch------------------------\n",
            "#0 Batch : Training Loss:0.910889\n",
            "#5 Batch : Training Loss:0.897981\n",
            "Validity Loss :0.143974\n",
            "\n",
            "#48 ---------------Epoch------------------------\n",
            "#0 Batch : Training Loss:0.851259\n",
            "#5 Batch : Training Loss:0.892242\n",
            "Validity Loss :0.142480\n",
            "\n",
            "#49 ---------------Epoch------------------------\n",
            "#0 Batch : Training Loss:0.854287\n",
            "#5 Batch : Training Loss:0.924372\n",
            "Validity Loss :0.141604\n",
            "\n",
            "#50 ---------------Epoch------------------------\n",
            "#0 Batch : Training Loss:1.151507\n",
            "#5 Batch : Training Loss:0.957202\n",
            "Validity Loss :0.140550\n",
            "\n",
            "#51 ---------------Epoch------------------------\n",
            "#0 Batch : Training Loss:1.009800\n",
            "#5 Batch : Training Loss:1.031945\n",
            "Validity Loss :0.140546\n",
            "\n",
            "#52 ---------------Epoch------------------------\n",
            "#0 Batch : Training Loss:1.094788\n",
            "#5 Batch : Training Loss:1.044391\n",
            "Validity Loss :0.140574\n",
            "\n",
            "#53 ---------------Epoch------------------------\n",
            "#0 Batch : Training Loss:0.792227\n",
            "#5 Batch : Training Loss:0.931309\n",
            "Validity Loss :0.138670\n",
            "\n",
            "#54 ---------------Epoch------------------------\n",
            "#0 Batch : Training Loss:1.026198\n",
            "#5 Batch : Training Loss:0.866878\n",
            "Validity Loss :0.138259\n",
            "\n",
            "#55 ---------------Epoch------------------------\n",
            "#0 Batch : Training Loss:0.991149\n",
            "#5 Batch : Training Loss:0.924617\n",
            "Validity Loss :0.137528\n",
            "\n",
            "#56 ---------------Epoch------------------------\n",
            "#0 Batch : Training Loss:0.936533\n",
            "#5 Batch : Training Loss:1.000948\n",
            "Validity Loss :0.138757\n",
            "\n",
            "#57 ---------------Epoch------------------------\n",
            "#0 Batch : Training Loss:1.027732\n",
            "#5 Batch : Training Loss:1.144206\n",
            "Validity Loss :0.136891\n",
            "\n",
            "#58 ---------------Epoch------------------------\n",
            "#0 Batch : Training Loss:1.074553\n",
            "#5 Batch : Training Loss:1.093455\n",
            "Validity Loss :0.136554\n",
            "\n",
            "#59 ---------------Epoch------------------------\n",
            "#0 Batch : Training Loss:1.041840\n",
            "#5 Batch : Training Loss:0.903290\n",
            "Validity Loss :0.136352\n",
            "\n",
            "#60 ---------------Epoch------------------------\n",
            "#0 Batch : Training Loss:0.984080\n",
            "#5 Batch : Training Loss:0.977980\n",
            "Validity Loss :0.135596\n",
            "\n",
            "#61 ---------------Epoch------------------------\n",
            "#0 Batch : Training Loss:0.831172\n",
            "#5 Batch : Training Loss:0.994983\n",
            "Validity Loss :0.136730\n",
            "\n",
            "#62 ---------------Epoch------------------------\n",
            "#0 Batch : Training Loss:0.956931\n",
            "#5 Batch : Training Loss:1.136435\n",
            "Validity Loss :0.136696\n",
            "\n",
            "#63 ---------------Epoch------------------------\n",
            "#0 Batch : Training Loss:1.292887\n",
            "#5 Batch : Training Loss:0.980320\n",
            "Validity Loss :0.134753\n",
            "\n",
            "#64 ---------------Epoch------------------------\n",
            "#0 Batch : Training Loss:0.851954\n",
            "#5 Batch : Training Loss:1.173272\n",
            "Validity Loss :0.135943\n",
            "\n",
            "#65 ---------------Epoch------------------------\n",
            "#0 Batch : Training Loss:1.136653\n",
            "#5 Batch : Training Loss:0.737843\n",
            "Validity Loss :0.135573\n",
            "\n",
            "#66 ---------------Epoch------------------------\n",
            "#0 Batch : Training Loss:0.860496\n",
            "#5 Batch : Training Loss:0.929591\n",
            "Validity Loss :0.134367\n",
            "\n",
            "#67 ---------------Epoch------------------------\n",
            "#0 Batch : Training Loss:0.937749\n",
            "#5 Batch : Training Loss:0.994715\n",
            "Validity Loss :0.134916\n",
            "\n",
            "#68 ---------------Epoch------------------------\n",
            "#0 Batch : Training Loss:0.872760\n",
            "#5 Batch : Training Loss:1.161490\n",
            "Validity Loss :0.135579\n",
            "\n",
            "#69 ---------------Epoch------------------------\n",
            "#0 Batch : Training Loss:0.873942\n",
            "#5 Batch : Training Loss:0.975349\n",
            "Validity Loss :0.134405\n",
            "\n",
            "#70 ---------------Epoch------------------------\n",
            "#0 Batch : Training Loss:0.926142\n",
            "#5 Batch : Training Loss:0.932705\n",
            "Validity Loss :0.134376\n",
            "\n",
            "#71 ---------------Epoch------------------------\n",
            "#0 Batch : Training Loss:0.996670\n",
            "#5 Batch : Training Loss:0.964176\n",
            "Validity Loss :0.134956\n",
            "\n",
            "#72 ---------------Epoch------------------------\n",
            "#0 Batch : Training Loss:1.057215\n",
            "#5 Batch : Training Loss:1.038062\n",
            "Validity Loss :0.134262\n",
            "\n",
            "#73 ---------------Epoch------------------------\n",
            "#0 Batch : Training Loss:0.989640\n",
            "#5 Batch : Training Loss:1.068068\n",
            "Validity Loss :0.134856\n",
            "\n",
            "#74 ---------------Epoch------------------------\n",
            "#0 Batch : Training Loss:1.018456\n",
            "#5 Batch : Training Loss:1.017290\n",
            "Validity Loss :0.134422\n",
            "\n",
            "#75 ---------------Epoch------------------------\n",
            "#0 Batch : Training Loss:0.751925\n",
            "#5 Batch : Training Loss:0.988087\n",
            "Validity Loss :0.134746\n",
            "\n",
            "#76 ---------------Epoch------------------------\n",
            "#0 Batch : Training Loss:0.873571\n",
            "#5 Batch : Training Loss:1.171269\n",
            "Validity Loss :0.134981\n",
            "\n",
            "#77 ---------------Epoch------------------------\n",
            "#0 Batch : Training Loss:0.859728\n",
            "#5 Batch : Training Loss:0.942942\n",
            "Validity Loss :0.133276\n",
            "\n",
            "#78 ---------------Epoch------------------------\n",
            "#0 Batch : Training Loss:1.067230\n",
            "#5 Batch : Training Loss:1.099621\n",
            "Validity Loss :0.135290\n",
            "\n",
            "#79 ---------------Epoch------------------------\n",
            "#0 Batch : Training Loss:0.911719\n",
            "#5 Batch : Training Loss:1.109189\n",
            "Validity Loss :0.135620\n",
            "\n",
            "#80 ---------------Epoch------------------------\n",
            "#0 Batch : Training Loss:1.010221\n",
            "#5 Batch : Training Loss:0.805492\n",
            "Validity Loss :0.133020\n",
            "\n",
            "#81 ---------------Epoch------------------------\n",
            "#0 Batch : Training Loss:1.152881\n",
            "#5 Batch : Training Loss:1.168583\n",
            "Validity Loss :0.133966\n",
            "\n",
            "#82 ---------------Epoch------------------------\n",
            "#0 Batch : Training Loss:0.872729\n",
            "#5 Batch : Training Loss:0.944155\n",
            "Validity Loss :0.134614\n",
            "\n",
            "#83 ---------------Epoch------------------------\n",
            "#0 Batch : Training Loss:0.766906\n",
            "#5 Batch : Training Loss:0.895774\n",
            "Validity Loss :0.135854\n",
            "\n",
            "#84 ---------------Epoch------------------------\n",
            "#0 Batch : Training Loss:1.220376\n",
            "#5 Batch : Training Loss:0.842586\n",
            "Validity Loss :0.134202\n",
            "\n",
            "#85 ---------------Epoch------------------------\n",
            "#0 Batch : Training Loss:0.850135\n",
            "#5 Batch : Training Loss:1.065063\n",
            "Validity Loss :0.132856\n",
            "\n",
            "#86 ---------------Epoch------------------------\n",
            "#0 Batch : Training Loss:1.342505\n",
            "#5 Batch : Training Loss:0.875748\n",
            "Validity Loss :0.133546\n",
            "\n",
            "#87 ---------------Epoch------------------------\n",
            "#0 Batch : Training Loss:0.864096\n",
            "#5 Batch : Training Loss:0.913208\n",
            "Validity Loss :0.135836\n",
            "\n",
            "#88 ---------------Epoch------------------------\n",
            "#0 Batch : Training Loss:0.981117\n",
            "#5 Batch : Training Loss:0.935277\n",
            "Validity Loss :0.134273\n",
            "\n",
            "#89 ---------------Epoch------------------------\n",
            "#0 Batch : Training Loss:0.976395\n",
            "#5 Batch : Training Loss:0.951875\n",
            "Validity Loss :0.134847\n",
            "\n",
            "#90 ---------------Epoch------------------------\n",
            "#0 Batch : Training Loss:0.971363\n",
            "#5 Batch : Training Loss:0.915883\n",
            "Validity Loss :0.132898\n",
            "\n",
            "#91 ---------------Epoch------------------------\n",
            "#0 Batch : Training Loss:0.825399\n",
            "#5 Batch : Training Loss:1.330988\n",
            "Validity Loss :0.135633\n",
            "\n",
            "#92 ---------------Epoch------------------------\n",
            "#0 Batch : Training Loss:0.753426\n",
            "#5 Batch : Training Loss:0.889806\n",
            "Validity Loss :0.134285\n",
            "\n",
            "#93 ---------------Epoch------------------------\n",
            "#0 Batch : Training Loss:1.036476\n",
            "#5 Batch : Training Loss:0.942612\n",
            "Validity Loss :0.134201\n",
            "\n",
            "#94 ---------------Epoch------------------------\n",
            "#0 Batch : Training Loss:0.837650\n",
            "#5 Batch : Training Loss:1.065964\n",
            "Validity Loss :0.132951\n",
            "\n",
            "#95 ---------------Epoch------------------------\n",
            "#0 Batch : Training Loss:1.014714\n",
            "#5 Batch : Training Loss:0.821242\n",
            "Validity Loss :0.134107\n",
            "\n",
            "#96 ---------------Epoch------------------------\n",
            "#0 Batch : Training Loss:0.969749\n",
            "#5 Batch : Training Loss:1.022478\n",
            "Validity Loss :0.135427\n",
            "\n",
            "#97 ---------------Epoch------------------------\n",
            "#0 Batch : Training Loss:0.855896\n",
            "#5 Batch : Training Loss:0.858469\n",
            "Validity Loss :0.134529\n",
            "\n",
            "#98 ---------------Epoch------------------------\n",
            "#0 Batch : Training Loss:1.066944\n",
            "#5 Batch : Training Loss:0.808587\n",
            "Validity Loss :0.133646\n",
            "\n",
            "#99 ---------------Epoch------------------------\n",
            "#0 Batch : Training Loss:1.052907\n",
            "#5 Batch : Training Loss:0.826014\n",
            "Validity Loss :0.133550\n",
            "\n"
          ]
        }
      ]
    },
    {
      "cell_type": "code",
      "metadata": {
        "colab": {
          "base_uri": "https://localhost:8080/",
          "height": 265
        },
        "id": "Ju2N0DRyKEWt",
        "outputId": "3779498e-cd59-448e-f777-1634e530546c"
      },
      "source": [
        "for X,y in test_loader:\n",
        "  X_gpu = X.float().to(device)\n",
        "  x = X\n",
        "  out = net(X_gpu).cpu().detach()  # matplotlib를 사용하기 위해서는 CPU여야만 한다 / detach()는 tensor -> array로 바꿔줌\n",
        "\n",
        "  plt.plot(x,y,'.',label=\"Original Data\")\n",
        "  plt.plot(x,out,label=\"LinearNet\")\n",
        "  plt.legend()\n",
        "  plt.show()\n",
        "  break"
      ],
      "execution_count": null,
      "outputs": [
        {
          "output_type": "display_data",
          "data": {
            "image/png": "[encoded data removed]",
            "text/plain": [
              "<Figure size 432x288 with 1 Axes>"
            ]
          },
          "metadata": {
            "needs_background": "light"
          }
        }
      ]
    },
    {
      "cell_type": "code",
      "metadata": {
        "colab": {
          "base_uri": "https://localhost:8080/"
        },
        "id": "pUMQO3dMOXRS",
        "outputId": "6f21e83f-cf95-435d-98a0-e1d70410d3d8"
      },
      "source": [
        "for param in net.parameters():\n",
        "  print(param[:])\n",
        "  # torch 자체에도 bias가 있어서 따로 안넣어도 되었다."
      ],
      "execution_count": null,
      "outputs": [
        {
          "output_type": "stream",
          "name": "stdout",
          "text": [
            "tensor([[1.9824]], device='cuda:0', grad_fn=<SliceBackward>)\n",
            "tensor([-0.9902], device='cuda:0', grad_fn=<SliceBackward>)\n"
          ]
        }
      ]
    },
    {
      "cell_type": "code",
      "metadata": {
        "id": "MQS_ORI8PtKh"
      },
      "source": [
        ""
      ],
      "execution_count": null,
      "outputs": []
    }
  ]
}