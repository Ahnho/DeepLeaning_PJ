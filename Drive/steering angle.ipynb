{
 "cells": [
  {
   "cell_type": "markdown",
   "metadata": {
    "id": "0-Z69tRAi97l"
   },
   "source": [
    "# 1. 데이터셋 다운로드"
   ]
  },
  {
   "cell_type": "code",
   "execution_count": 1,
   "metadata": {
    "colab": {
     "base_uri": "https://localhost:8080/"
    },
    "id": "41pAu0rJq4HR",
    "outputId": "b776ed18-a770-4fdc-ce82-6424cfaa890d"
   },
   "outputs": [
    {
     "name": "stdout",
     "output_type": "stream",
     "text": [
      "--2022-12-10 13:14:23--  https://www.dropbox.com/s/pj6zfdf5f5l6rhe/imitation_22ver.zip?dl=0\n",
      "Resolving www.dropbox.com (www.dropbox.com)... 162.125.5.18, 2620:100:601d:18::a27d:512\n",
      "Connecting to www.dropbox.com (www.dropbox.com)|162.125.5.18|:443... connected.\n",
      "HTTP request sent, awaiting response... 302 Found\n",
      "Location: /s/raw/pj6zfdf5f5l6rhe/imitation_22ver.zip [following]\n",
      "--2022-12-10 13:14:24--  https://www.dropbox.com/s/raw/pj6zfdf5f5l6rhe/imitation_22ver.zip\n",
      "Reusing existing connection to www.dropbox.com:443.\n",
      "HTTP request sent, awaiting response... 302 Found\n",
      "Location: https://uc5d965add076d2b9ce81f55f8d8.dl.dropboxusercontent.com/cd/0/inline/ByUCkrjI2cd72clUoq-6iH24X2waarimM7XMoM9Ei4tqa6x6aGSCgMA8uZjr8OTBckxiADancEkRtXO7tcSQecXeVZ2J98lzGhHEFUa361qfY5tVibw-quT_R-c32LaM9W1K8cKeYF3cRH4Hs1qC5Vp-5QKT7Qi_e02TXPFLOEbIQg/file# [following]\n",
      "--2022-12-10 13:14:24--  https://uc5d965add076d2b9ce81f55f8d8.dl.dropboxusercontent.com/cd/0/inline/ByUCkrjI2cd72clUoq-6iH24X2waarimM7XMoM9Ei4tqa6x6aGSCgMA8uZjr8OTBckxiADancEkRtXO7tcSQecXeVZ2J98lzGhHEFUa361qfY5tVibw-quT_R-c32LaM9W1K8cKeYF3cRH4Hs1qC5Vp-5QKT7Qi_e02TXPFLOEbIQg/file\n",
      "Resolving uc5d965add076d2b9ce81f55f8d8.dl.dropboxusercontent.com (uc5d965add076d2b9ce81f55f8d8.dl.dropboxusercontent.com)... 162.125.5.15, 2620:100:601b:15::a27d:80f\n",
      "Connecting to uc5d965add076d2b9ce81f55f8d8.dl.dropboxusercontent.com (uc5d965add076d2b9ce81f55f8d8.dl.dropboxusercontent.com)|162.125.5.15|:443... connected.\n",
      "HTTP request sent, awaiting response... 302 Found\n",
      "Location: /cd/0/inline2/ByVR3OAkZudS2nCzIzgN_URw9n9RC3B1UxKIF9rqkAEjQhP465z6RxlTsad8V8duJixxPyfPRmidtpv6QGLyBiu5CGSHLc3VAYtVp56nuHxUcDJQEQGR6Fq4isTrl5_sHIz1nztabteYq9AZUm2XhSZfClU0PmgDbJfH2xMldllWtDcne7U2P0y2eDPBBJ8fAOwZSRYqTdSJ0fEoANA2_dFLJV3_v5ngFDoUtHS6hsypV8hVEEoUynPLxZmbcV9exseq5mc2egaCzBbVFTsVf2PIezHrz7JSlfEwyxSAacxBAZS66GU7sa6In6iN78UV0ILLkiStAKIq33NdoDa_0NETx4n7BLYhKvrICM-nm-U07hbsD-GRcML5FC3otmr6exiazTPX3ugnKcbDQuYb9fusOVUrNFb0QTe20bMzQ5oVgA/file [following]\n",
      "--2022-12-10 13:14:25--  https://uc5d965add076d2b9ce81f55f8d8.dl.dropboxusercontent.com/cd/0/inline2/ByVR3OAkZudS2nCzIzgN_URw9n9RC3B1UxKIF9rqkAEjQhP465z6RxlTsad8V8duJixxPyfPRmidtpv6QGLyBiu5CGSHLc3VAYtVp56nuHxUcDJQEQGR6Fq4isTrl5_sHIz1nztabteYq9AZUm2XhSZfClU0PmgDbJfH2xMldllWtDcne7U2P0y2eDPBBJ8fAOwZSRYqTdSJ0fEoANA2_dFLJV3_v5ngFDoUtHS6hsypV8hVEEoUynPLxZmbcV9exseq5mc2egaCzBbVFTsVf2PIezHrz7JSlfEwyxSAacxBAZS66GU7sa6In6iN78UV0ILLkiStAKIq33NdoDa_0NETx4n7BLYhKvrICM-nm-U07hbsD-GRcML5FC3otmr6exiazTPX3ugnKcbDQuYb9fusOVUrNFb0QTe20bMzQ5oVgA/file\n",
      "Reusing existing connection to uc5d965add076d2b9ce81f55f8d8.dl.dropboxusercontent.com:443.\n",
      "HTTP request sent, awaiting response... 200 OK\n",
      "Length: 356916762 (340M) [application/zip]\n",
      "Saving to: ‘dataset.zip’\n",
      "\n",
      "dataset.zip         100%[===================>] 340.38M  72.5MB/s    in 4.8s    \n",
      "\n",
      "2022-12-10 13:14:30 (70.3 MB/s) - ‘dataset.zip’ saved [356916762/356916762]\n",
      "\n"
     ]
    }
   ],
   "source": [
    "# download dataset by url link\n",
    "!wget -O dataset.zip https://www.dropbox.com/s/pj6zfdf5f5l6rhe/imitation_22ver.zip?dl=0\n",
    "# unzip zip file\n",
    "!unzip -qq dataset.zip\n",
    "# delete downloaded zip file\n",
    "!rm -rf dataset.zip\n",
    "# rename data path\n",
    "!mv imitation_22ver/ dataset/"
   ]
  },
  {
   "cell_type": "markdown",
   "metadata": {
    "id": "1WSwZyuzjFsD"
   },
   "source": [
    "# 2. EDA (Exploratory Data Analysis)"
   ]
  },
  {
   "cell_type": "code",
   "execution_count": 2,
   "metadata": {
    "colab": {
     "base_uri": "https://localhost:8080/"
    },
    "id": "wUrJ2gTMjOzo",
    "outputId": "cf2f7a7b-1c45-4c11-db70-4468415307ba"
   },
   "outputs": [
    {
     "name": "stdout",
     "output_type": "stream",
     "text": [
      "['images', '.DS_Store', 'label.csv']\n"
     ]
    }
   ],
   "source": [
    "# 데이터 기본 디렉토리 지정\n",
    "import os\n",
    "data_dir = os.path.join(os.getcwd(), 'dataset')\n",
    "print(os.listdir(data_dir))"
   ]
  },
  {
   "cell_type": "code",
   "execution_count": 3,
   "metadata": {
    "colab": {
     "base_uri": "https://localhost:8080/",
     "height": 423
    },
    "id": "-oWVPWKDjkkg",
    "outputId": "1468306d-8109-4d49-a9fd-cfb3cf05be05"
   },
   "outputs": [
    {
     "data": {
      "text/html": [
       "\n",
       "  <div id=\"df-23b35db1-7708-48fc-9532-4c6f74cca604\">\n",
       "    <div class=\"colab-df-container\">\n",
       "      <div>\n",
       "<style scoped>\n",
       "    .dataframe tbody tr th:only-of-type {\n",
       "        vertical-align: middle;\n",
       "    }\n",
       "\n",
       "    .dataframe tbody tr th {\n",
       "        vertical-align: top;\n",
       "    }\n",
       "\n",
       "    .dataframe thead th {\n",
       "        text-align: right;\n",
       "    }\n",
       "</style>\n",
       "<table border=\"1\" class=\"dataframe\">\n",
       "  <thead>\n",
       "    <tr style=\"text-align: right;\">\n",
       "      <th></th>\n",
       "      <th>img</th>\n",
       "      <th>steer</th>\n",
       "    </tr>\n",
       "  </thead>\n",
       "  <tbody>\n",
       "    <tr>\n",
       "      <th>0</th>\n",
       "      <td>329571.jpg</td>\n",
       "      <td>0.019361</td>\n",
       "    </tr>\n",
       "    <tr>\n",
       "      <th>1</th>\n",
       "      <td>329580.jpg</td>\n",
       "      <td>0.090791</td>\n",
       "    </tr>\n",
       "    <tr>\n",
       "      <th>2</th>\n",
       "      <td>329590.jpg</td>\n",
       "      <td>0.090791</td>\n",
       "    </tr>\n",
       "    <tr>\n",
       "      <th>3</th>\n",
       "      <td>329603.jpg</td>\n",
       "      <td>-0.007297</td>\n",
       "    </tr>\n",
       "    <tr>\n",
       "      <th>4</th>\n",
       "      <td>329610.jpg</td>\n",
       "      <td>-0.056953</td>\n",
       "    </tr>\n",
       "    <tr>\n",
       "      <th>...</th>\n",
       "      <td>...</td>\n",
       "      <td>...</td>\n",
       "    </tr>\n",
       "    <tr>\n",
       "      <th>1647</th>\n",
       "      <td>411920.jpg</td>\n",
       "      <td>0.001657</td>\n",
       "    </tr>\n",
       "    <tr>\n",
       "      <th>1648</th>\n",
       "      <td>411930.jpg</td>\n",
       "      <td>0.024448</td>\n",
       "    </tr>\n",
       "    <tr>\n",
       "      <th>1649</th>\n",
       "      <td>411940.jpg</td>\n",
       "      <td>0.027501</td>\n",
       "    </tr>\n",
       "    <tr>\n",
       "      <th>1650</th>\n",
       "      <td>411950.jpg</td>\n",
       "      <td>0.036455</td>\n",
       "    </tr>\n",
       "    <tr>\n",
       "      <th>1651</th>\n",
       "      <td>411960.jpg</td>\n",
       "      <td>0.020175</td>\n",
       "    </tr>\n",
       "  </tbody>\n",
       "</table>\n",
       "<p>1652 rows × 2 columns</p>\n",
       "</div>\n",
       "      <button class=\"colab-df-convert\" onclick=\"convertToInteractive('df-23b35db1-7708-48fc-9532-4c6f74cca604')\"\n",
       "              title=\"Convert this dataframe to an interactive table.\"\n",
       "              style=\"display:none;\">\n",
       "        \n",
       "  <svg xmlns=\"http://www.w3.org/2000/svg\" height=\"24px\"viewBox=\"0 0 24 24\"\n",
       "       width=\"24px\">\n",
       "    <path d=\"M0 0h24v24H0V0z\" fill=\"none\"/>\n",
       "    <path d=\"M18.56 5.44l.94 2.06.94-2.06 2.06-.94-2.06-.94-.94-2.06-.94 2.06-2.06.94zm-11 1L8.5 8.5l.94-2.06 2.06-.94-2.06-.94L8.5 2.5l-.94 2.06-2.06.94zm10 10l.94 2.06.94-2.06 2.06-.94-2.06-.94-.94-2.06-.94 2.06-2.06.94z\"/><path d=\"M17.41 7.96l-1.37-1.37c-.4-.4-.92-.59-1.43-.59-.52 0-1.04.2-1.43.59L10.3 9.45l-7.72 7.72c-.78.78-.78 2.05 0 2.83L4 21.41c.39.39.9.59 1.41.59.51 0 1.02-.2 1.41-.59l7.78-7.78 2.81-2.81c.8-.78.8-2.07 0-2.86zM5.41 20L4 18.59l7.72-7.72 1.47 1.35L5.41 20z\"/>\n",
       "  </svg>\n",
       "      </button>\n",
       "      \n",
       "  <style>\n",
       "    .colab-df-container {\n",
       "      display:flex;\n",
       "      flex-wrap:wrap;\n",
       "      gap: 12px;\n",
       "    }\n",
       "\n",
       "    .colab-df-convert {\n",
       "      background-color: #E8F0FE;\n",
       "      border: none;\n",
       "      border-radius: 50%;\n",
       "      cursor: pointer;\n",
       "      display: none;\n",
       "      fill: #1967D2;\n",
       "      height: 32px;\n",
       "      padding: 0 0 0 0;\n",
       "      width: 32px;\n",
       "    }\n",
       "\n",
       "    .colab-df-convert:hover {\n",
       "      background-color: #E2EBFA;\n",
       "      box-shadow: 0px 1px 2px rgba(60, 64, 67, 0.3), 0px 1px 3px 1px rgba(60, 64, 67, 0.15);\n",
       "      fill: #174EA6;\n",
       "    }\n",
       "\n",
       "    [theme=dark] .colab-df-convert {\n",
       "      background-color: #3B4455;\n",
       "      fill: #D2E3FC;\n",
       "    }\n",
       "\n",
       "    [theme=dark] .colab-df-convert:hover {\n",
       "      background-color: #434B5C;\n",
       "      box-shadow: 0px 1px 3px 1px rgba(0, 0, 0, 0.15);\n",
       "      filter: drop-shadow(0px 1px 2px rgba(0, 0, 0, 0.3));\n",
       "      fill: #FFFFFF;\n",
       "    }\n",
       "  </style>\n",
       "\n",
       "      <script>\n",
       "        const buttonEl =\n",
       "          document.querySelector('#df-23b35db1-7708-48fc-9532-4c6f74cca604 button.colab-df-convert');\n",
       "        buttonEl.style.display =\n",
       "          google.colab.kernel.accessAllowed ? 'block' : 'none';\n",
       "\n",
       "        async function convertToInteractive(key) {\n",
       "          const element = document.querySelector('#df-23b35db1-7708-48fc-9532-4c6f74cca604');\n",
       "          const dataTable =\n",
       "            await google.colab.kernel.invokeFunction('convertToInteractive',\n",
       "                                                     [key], {});\n",
       "          if (!dataTable) return;\n",
       "\n",
       "          const docLinkHtml = 'Like what you see? Visit the ' +\n",
       "            '<a target=\"_blank\" href=https://colab.research.google.com/notebooks/data_table.ipynb>data table notebook</a>'\n",
       "            + ' to learn more about interactive tables.';\n",
       "          element.innerHTML = '';\n",
       "          dataTable['output_type'] = 'display_data';\n",
       "          await google.colab.output.renderOutput(dataTable, element);\n",
       "          const docLink = document.createElement('div');\n",
       "          docLink.innerHTML = docLinkHtml;\n",
       "          element.appendChild(docLink);\n",
       "        }\n",
       "      </script>\n",
       "    </div>\n",
       "  </div>\n",
       "  "
      ],
      "text/plain": [
       "             img     steer\n",
       "0     329571.jpg  0.019361\n",
       "1     329580.jpg  0.090791\n",
       "2     329590.jpg  0.090791\n",
       "3     329603.jpg -0.007297\n",
       "4     329610.jpg -0.056953\n",
       "...          ...       ...\n",
       "1647  411920.jpg  0.001657\n",
       "1648  411930.jpg  0.024448\n",
       "1649  411940.jpg  0.027501\n",
       "1650  411950.jpg  0.036455\n",
       "1651  411960.jpg  0.020175\n",
       "\n",
       "[1652 rows x 2 columns]"
      ]
     },
     "execution_count": 3,
     "metadata": {},
     "output_type": "execute_result"
    }
   ],
   "source": [
    "# label.csv 파일 탐색 - 조향각에 대한 numerical 값\n",
    "label_path = os.path.join(data_dir, 'label.csv')\n",
    "\n",
    "import pandas as pd\n",
    "label_df = pd.read_csv(label_path)\n",
    "label_df"
   ]
  },
  {
   "cell_type": "code",
   "execution_count": 4,
   "metadata": {
    "colab": {
     "base_uri": "https://localhost:8080/",
     "height": 440
    },
    "id": "E22wSTHMj9rq",
    "outputId": "6b2fd911-fa53-4224-e64f-9896fa13beeb"
   },
   "outputs": [
    {
     "name": "stdout",
     "output_type": "stream",
     "text": [
      "count    1652.000000\n",
      "mean       -0.048909\n",
      "std         0.130272\n",
      "min        -0.500000\n",
      "25%        -0.111353\n",
      "50%        -0.013198\n",
      "75%         0.021193\n",
      "max         0.500000\n",
      "Name: steer, dtype: float64\n"
     ]
    },
    {
     "data": {
      "text/plain": [
       "<matplotlib.axes._subplots.AxesSubplot at 0x7fe3e238faf0>"
      ]
     },
     "execution_count": 4,
     "metadata": {},
     "output_type": "execute_result"
    },
    {
     "data": {
      "image/png": "[encoded data removed]",
      "text/plain": [
       "<Figure size 432x288 with 1 Axes>"
      ]
     },
     "metadata": {
      "needs_background": "light"
     },
     "output_type": "display_data"
    }
   ],
   "source": [
    "# steer 값 탐색 , 좀 더 다양한 시각적 분석\n",
    "print(label_df['steer'].describe())\n",
    "\n",
    "label_df['steer'].hist()\n",
    "##직선주행이 제일 많음"
   ]
  },
  {
   "cell_type": "markdown",
   "metadata": {
    "id": "u2E3osCgh4CZ"
   },
   "source": [
    "## 우회전 데이터 추가 : steer값 -0.09이하인걸 -1를 곱해줌 \n",
    "## 그결과 데이터가 약 600개정도 추가됨\n",
    "## 자세한건 보고서에 작성하였습니다."
   ]
  },
  {
   "cell_type": "code",
   "execution_count": 5,
   "metadata": {
    "colab": {
     "base_uri": "https://localhost:8080/",
     "height": 423
    },
    "id": "Uh4EvyUYAHtF",
    "outputId": "fd246da5-cbd1-48ee-ab19-ac122ab810d5"
   },
   "outputs": [
    {
     "data": {
      "text/html": [
       "\n",
       "  <div id=\"df-c7630ff7-1ed5-426f-ac1c-a8a674bd2d9b\">\n",
       "    <div class=\"colab-df-container\">\n",
       "      <div>\n",
       "<style scoped>\n",
       "    .dataframe tbody tr th:only-of-type {\n",
       "        vertical-align: middle;\n",
       "    }\n",
       "\n",
       "    .dataframe tbody tr th {\n",
       "        vertical-align: top;\n",
       "    }\n",
       "\n",
       "    .dataframe thead th {\n",
       "        text-align: right;\n",
       "    }\n",
       "</style>\n",
       "<table border=\"1\" class=\"dataframe\">\n",
       "  <thead>\n",
       "    <tr style=\"text-align: right;\">\n",
       "      <th></th>\n",
       "      <th>img</th>\n",
       "      <th>steer</th>\n",
       "    </tr>\n",
       "  </thead>\n",
       "  <tbody>\n",
       "    <tr>\n",
       "      <th>0</th>\n",
       "      <td>329571.jpg</td>\n",
       "      <td>0.019361</td>\n",
       "    </tr>\n",
       "    <tr>\n",
       "      <th>1</th>\n",
       "      <td>329580.jpg</td>\n",
       "      <td>0.090791</td>\n",
       "    </tr>\n",
       "    <tr>\n",
       "      <th>2</th>\n",
       "      <td>329590.jpg</td>\n",
       "      <td>0.090791</td>\n",
       "    </tr>\n",
       "    <tr>\n",
       "      <th>3</th>\n",
       "      <td>329603.jpg</td>\n",
       "      <td>-0.007297</td>\n",
       "    </tr>\n",
       "    <tr>\n",
       "      <th>4</th>\n",
       "      <td>329610.jpg</td>\n",
       "      <td>-0.056953</td>\n",
       "    </tr>\n",
       "    <tr>\n",
       "      <th>...</th>\n",
       "      <td>...</td>\n",
       "      <td>...</td>\n",
       "    </tr>\n",
       "    <tr>\n",
       "      <th>2160</th>\n",
       "      <td>20508.jpg</td>\n",
       "      <td>0.108045</td>\n",
       "    </tr>\n",
       "    <tr>\n",
       "      <th>2161</th>\n",
       "      <td>20509.jpg</td>\n",
       "      <td>0.125961</td>\n",
       "    </tr>\n",
       "    <tr>\n",
       "      <th>2162</th>\n",
       "      <td>20510.jpg</td>\n",
       "      <td>0.136753</td>\n",
       "    </tr>\n",
       "    <tr>\n",
       "      <th>2163</th>\n",
       "      <td>20511.jpg</td>\n",
       "      <td>0.142251</td>\n",
       "    </tr>\n",
       "    <tr>\n",
       "      <th>2164</th>\n",
       "      <td>20512.jpg</td>\n",
       "      <td>0.129219</td>\n",
       "    </tr>\n",
       "  </tbody>\n",
       "</table>\n",
       "<p>2165 rows × 2 columns</p>\n",
       "</div>\n",
       "      <button class=\"colab-df-convert\" onclick=\"convertToInteractive('df-c7630ff7-1ed5-426f-ac1c-a8a674bd2d9b')\"\n",
       "              title=\"Convert this dataframe to an interactive table.\"\n",
       "              style=\"display:none;\">\n",
       "        \n",
       "  <svg xmlns=\"http://www.w3.org/2000/svg\" height=\"24px\"viewBox=\"0 0 24 24\"\n",
       "       width=\"24px\">\n",
       "    <path d=\"M0 0h24v24H0V0z\" fill=\"none\"/>\n",
       "    <path d=\"M18.56 5.44l.94 2.06.94-2.06 2.06-.94-2.06-.94-.94-2.06-.94 2.06-2.06.94zm-11 1L8.5 8.5l.94-2.06 2.06-.94-2.06-.94L8.5 2.5l-.94 2.06-2.06.94zm10 10l.94 2.06.94-2.06 2.06-.94-2.06-.94-.94-2.06-.94 2.06-2.06.94z\"/><path d=\"M17.41 7.96l-1.37-1.37c-.4-.4-.92-.59-1.43-.59-.52 0-1.04.2-1.43.59L10.3 9.45l-7.72 7.72c-.78.78-.78 2.05 0 2.83L4 21.41c.39.39.9.59 1.41.59.51 0 1.02-.2 1.41-.59l7.78-7.78 2.81-2.81c.8-.78.8-2.07 0-2.86zM5.41 20L4 18.59l7.72-7.72 1.47 1.35L5.41 20z\"/>\n",
       "  </svg>\n",
       "      </button>\n",
       "      \n",
       "  <style>\n",
       "    .colab-df-container {\n",
       "      display:flex;\n",
       "      flex-wrap:wrap;\n",
       "      gap: 12px;\n",
       "    }\n",
       "\n",
       "    .colab-df-convert {\n",
       "      background-color: #E8F0FE;\n",
       "      border: none;\n",
       "      border-radius: 50%;\n",
       "      cursor: pointer;\n",
       "      display: none;\n",
       "      fill: #1967D2;\n",
       "      height: 32px;\n",
       "      padding: 0 0 0 0;\n",
       "      width: 32px;\n",
       "    }\n",
       "\n",
       "    .colab-df-convert:hover {\n",
       "      background-color: #E2EBFA;\n",
       "      box-shadow: 0px 1px 2px rgba(60, 64, 67, 0.3), 0px 1px 3px 1px rgba(60, 64, 67, 0.15);\n",
       "      fill: #174EA6;\n",
       "    }\n",
       "\n",
       "    [theme=dark] .colab-df-convert {\n",
       "      background-color: #3B4455;\n",
       "      fill: #D2E3FC;\n",
       "    }\n",
       "\n",
       "    [theme=dark] .colab-df-convert:hover {\n",
       "      background-color: #434B5C;\n",
       "      box-shadow: 0px 1px 3px 1px rgba(0, 0, 0, 0.15);\n",
       "      filter: drop-shadow(0px 1px 2px rgba(0, 0, 0, 0.3));\n",
       "      fill: #FFFFFF;\n",
       "    }\n",
       "  </style>\n",
       "\n",
       "      <script>\n",
       "        const buttonEl =\n",
       "          document.querySelector('#df-c7630ff7-1ed5-426f-ac1c-a8a674bd2d9b button.colab-df-convert');\n",
       "        buttonEl.style.display =\n",
       "          google.colab.kernel.accessAllowed ? 'block' : 'none';\n",
       "\n",
       "        async function convertToInteractive(key) {\n",
       "          const element = document.querySelector('#df-c7630ff7-1ed5-426f-ac1c-a8a674bd2d9b');\n",
       "          const dataTable =\n",
       "            await google.colab.kernel.invokeFunction('convertToInteractive',\n",
       "                                                     [key], {});\n",
       "          if (!dataTable) return;\n",
       "\n",
       "          const docLinkHtml = 'Like what you see? Visit the ' +\n",
       "            '<a target=\"_blank\" href=https://colab.research.google.com/notebooks/data_table.ipynb>data table notebook</a>'\n",
       "            + ' to learn more about interactive tables.';\n",
       "          element.innerHTML = '';\n",
       "          dataTable['output_type'] = 'display_data';\n",
       "          await google.colab.output.renderOutput(dataTable, element);\n",
       "          const docLink = document.createElement('div');\n",
       "          docLink.innerHTML = docLinkHtml;\n",
       "          element.appendChild(docLink);\n",
       "        }\n",
       "      </script>\n",
       "    </div>\n",
       "  </div>\n",
       "  "
      ],
      "text/plain": [
       "             img     steer\n",
       "0     329571.jpg  0.019361\n",
       "1     329580.jpg  0.090791\n",
       "2     329590.jpg  0.090791\n",
       "3     329603.jpg -0.007297\n",
       "4     329610.jpg -0.056953\n",
       "...          ...       ...\n",
       "2160   20508.jpg  0.108045\n",
       "2161   20509.jpg  0.125961\n",
       "2162   20510.jpg  0.136753\n",
       "2163   20511.jpg  0.142251\n",
       "2164   20512.jpg  0.129219\n",
       "\n",
       "[2165 rows x 2 columns]"
      ]
     },
     "execution_count": 5,
     "metadata": {},
     "output_type": "execute_result"
    }
   ],
   "source": [
    "# X,Y 데이터 시각화 확인\n",
    "# 이미지 augmentaion\n",
    "import matplotlib.pyplot as plt\n",
    "from PIL import Image\n",
    "import numpy as np\n",
    "import csv\n",
    "import pandas as pd\n",
    "\n",
    "\n",
    "# os, 를 이용한 \n",
    "def load_image(img_name):\n",
    "    # https://m.blog.naver.com/nostresss12/221950215408\n",
    "    path = os.path.join(data_dir, 'images', img_name)\n",
    "    img_data = Image.open(path).convert(\"RGB\")\n",
    "    # img_data = Image.open(\"/content/dataset/images/329641.jpg\").convert(\"L\")\n",
    "\n",
    "    # raise NotImplementedError\n",
    "\n",
    "    return img_data\n",
    "\n",
    "\n",
    "new_jpg = 10000\n",
    "def visualize_augm(img_name, label, new_jpg):\n",
    "\n",
    "    img = load_image(img_name)\n",
    "    im1 = img.transpose(Image.FLIP_LEFT_RIGHT)\n",
    "    label *= -1.0\n",
    "    new_jpg = str(new_jpg)+'.jpg'\n",
    "    path = os.path.join(data_dir,'images',new_jpg)\n",
    "    im1.save(path, 'JPEG')\n",
    "\n",
    "    with open(label_path, 'a', newline='') as myfile:\n",
    "        wr = csv.writer(myfile)\n",
    "        wr.writerow([new_jpg,label])\n",
    "    \n",
    "for i in label_df.index:\n",
    "  img_name = label_df['img'][i]\n",
    "  label = label_df[label_df['img'] == img_name]['steer'].values[0]\n",
    "  if label <= -0.09:\n",
    "    visualize_augm(img_name, label,new_jpg)\n",
    "    new_jpg+=1\n",
    "\n",
    "label_df = pd.read_csv(label_path)\n",
    "label_df"
   ]
  },
  {
   "cell_type": "code",
   "execution_count": 6,
   "metadata": {
    "colab": {
     "base_uri": "https://localhost:8080/",
     "height": 439
    },
    "id": "Kstol_JLKeTz",
    "outputId": "92a2c468-7124-4bc9-f4ec-73015a6d043c"
   },
   "outputs": [
    {
     "name": "stdout",
     "output_type": "stream",
     "text": [
      "count    2165.000000\n",
      "mean        0.008520\n",
      "std         0.159629\n",
      "min        -0.500000\n",
      "25%        -0.085449\n",
      "50%         0.010000\n",
      "75%         0.098680\n",
      "max         0.500000\n",
      "Name: steer, dtype: float64\n"
     ]
    },
    {
     "data": {
      "text/plain": [
       "<matplotlib.axes._subplots.AxesSubplot at 0x7fe3e230ea60>"
      ]
     },
     "execution_count": 6,
     "metadata": {},
     "output_type": "execute_result"
    },
    {
     "data": {
      "image/png": "[encoded data removed]",
      "text/plain": [
       "<Figure size 432x288 with 1 Axes>"
      ]
     },
     "metadata": {
      "needs_background": "light"
     },
     "output_type": "display_data"
    }
   ],
   "source": [
    "print(label_df['steer'].describe())\n",
    "label_df['steer'].hist()"
   ]
  },
  {
   "cell_type": "code",
   "execution_count": 7,
   "metadata": {
    "colab": {
     "base_uri": "https://localhost:8080/",
     "height": 300
    },
    "id": "sAVP2szLkfw1",
    "outputId": "34a8175f-c956-4103-e76d-c9639ff50db3"
   },
   "outputs": [
    {
     "name": "stdout",
     "output_type": "stream",
     "text": [
      "Index:  1001\n",
      "Image name:  346780.jpg\n",
      "Steer:  0.0329952146987416\n",
      "Image shape:  (256, 512, 3)\n"
     ]
    },
    {
     "data": {
      "image/png": "[encoded data removed]",
      "text/plain": [
       "<Figure size 432x288 with 1 Axes>"
      ]
     },
     "metadata": {
      "needs_background": "light"
     },
     "output_type": "display_data"
    }
   ],
   "source": [
    "# X,Y 데이터 시각화 확인\n",
    "# 이미지 augmentaion\n",
    "import matplotlib.pyplot as plt\n",
    "from PIL import Image\n",
    "import numpy as np\n",
    "\n",
    "def load_image(img_name):\n",
    "    # https://m.blog.naver.com/nostresss12/221950215408\n",
    "    \n",
    "    #raise NotImplementedError\n",
    "    #os 활용\n",
    "    img_path = os.path.join(data_dir,'images',img_name)\n",
    "    img_data = Image.open(img_path).convert('RGB')\n",
    "    #img_data = Image.open(img_name).convert('L')\n",
    "\n",
    "    return img_data\n",
    "\n",
    "\n",
    "def visualize_data(img_name, label):\n",
    "\n",
    "    img = load_image(img_name)\n",
    "    FlipImage = img\n",
    "    FlipImage.show()\n",
    "    print(\"Image shape: \", np.array(img).shape)\n",
    "    \n",
    "    plt.imshow(img)\n",
    "    plt.title(\"steering: {:.2f}\".format(label))\n",
    "    plt.show()\n",
    "\n",
    "i = np.random.choice(label_df.index)\n",
    "img_name = label_df['img'][i]\n",
    "label = label_df[label_df['img'] == img_name]['steer'].values[0]\n",
    "print(\"Index: \", i)\n",
    "print(\"Image name: \", img_name)\n",
    "print(\"Steer: \", label)\n",
    "\n",
    "visualize_data(img_name, label)"
   ]
  },
  {
   "cell_type": "markdown",
   "metadata": {
    "id": "YQXR0Qo8O34M"
   },
   "source": [
    "# 3. 딥러닝 모델 생성"
   ]
  },
  {
   "cell_type": "code",
   "execution_count": 8,
   "metadata": {
    "colab": {
     "base_uri": "https://localhost:8080/"
    },
    "id": "dMLPWd9pOgSk",
    "outputId": "08bc9005-f7a4-4320-e415-c606f0442dc8"
   },
   "outputs": [
    {
     "name": "stdout",
     "output_type": "stream",
     "text": [
      "Model: \"sequential\"\n",
      "_________________________________________________________________\n",
      " Layer (type)                Output Shape              Param #   \n",
      "=================================================================\n",
      " conv2d (Conv2D)             (None, 252, 508, 24)      1824      \n",
      "                                                                 \n",
      " batch_normalization (BatchN  (None, 252, 508, 24)     96        \n",
      " ormalization)                                                   \n",
      "                                                                 \n",
      " activation (Activation)     (None, 252, 508, 24)      0         \n",
      "                                                                 \n",
      " max_pooling2d (MaxPooling2D  (None, 126, 254, 24)     0         \n",
      " )                                                               \n",
      "                                                                 \n",
      " conv2d_1 (Conv2D)           (None, 122, 250, 36)      21636     \n",
      "                                                                 \n",
      " batch_normalization_1 (Batc  (None, 122, 250, 36)     144       \n",
      " hNormalization)                                                 \n",
      "                                                                 \n",
      " activation_1 (Activation)   (None, 122, 250, 36)      0         \n",
      "                                                                 \n",
      " max_pooling2d_1 (MaxPooling  (None, 61, 125, 36)      0         \n",
      " 2D)                                                             \n",
      "                                                                 \n",
      " conv2d_2 (Conv2D)           (None, 57, 121, 48)       43248     \n",
      "                                                                 \n",
      " batch_normalization_2 (Batc  (None, 57, 121, 48)      192       \n",
      " hNormalization)                                                 \n",
      "                                                                 \n",
      " activation_2 (Activation)   (None, 57, 121, 48)       0         \n",
      "                                                                 \n",
      " max_pooling2d_2 (MaxPooling  (None, 28, 60, 48)       0         \n",
      " 2D)                                                             \n",
      "                                                                 \n",
      " conv2d_3 (Conv2D)           (None, 26, 58, 64)        27712     \n",
      "                                                                 \n",
      " batch_normalization_3 (Batc  (None, 26, 58, 64)       256       \n",
      " hNormalization)                                                 \n",
      "                                                                 \n",
      " activation_3 (Activation)   (None, 26, 58, 64)        0         \n",
      "                                                                 \n",
      " max_pooling2d_3 (MaxPooling  (None, 13, 29, 64)       0         \n",
      " 2D)                                                             \n",
      "                                                                 \n",
      " conv2d_4 (Conv2D)           (None, 11, 27, 64)        36928     \n",
      "                                                                 \n",
      " batch_normalization_4 (Batc  (None, 11, 27, 64)       256       \n",
      " hNormalization)                                                 \n",
      "                                                                 \n",
      " activation_4 (Activation)   (None, 11, 27, 64)        0         \n",
      "                                                                 \n",
      " max_pooling2d_4 (MaxPooling  (None, 5, 13, 64)        0         \n",
      " 2D)                                                             \n",
      "                                                                 \n",
      " flatten (Flatten)           (None, 4160)              0         \n",
      "                                                                 \n",
      " dense (Dense)               (None, 100)               416100    \n",
      "                                                                 \n",
      " dense_1 (Dense)             (None, 50)                5050      \n",
      "                                                                 \n",
      " dense_2 (Dense)             (None, 10)                510       \n",
      "                                                                 \n",
      " dense_3 (Dense)             (None, 1)                 11        \n",
      "                                                                 \n",
      "=================================================================\n",
      "Total params: 553,963\n",
      "Trainable params: 553,491\n",
      "Non-trainable params: 472\n",
      "_________________________________________________________________\n"
     ]
    }
   ],
   "source": [
    "from tensorflow.keras.models import Sequential\n",
    "from tensorflow.keras.layers import Conv2D, MaxPooling2D, Flatten, Dense, BatchNormalization, Activation\n",
    "\n",
    "# end to end \n",
    "def get_model():\n",
    "\n",
    "    model = Sequential()\n",
    "\n",
    "    # ▼▼▼▼ Nvidia의 End-to-End 모델 구현 ▼▼▼▼\n",
    "    # input data shape: (None, 256, 512, 3)\n",
    "    # output data shape: (None, 1)\n",
    "    \n",
    "\n",
    "    model.add(Conv2D(24,5, strides=(1,1), padding='valid', input_shape=(256,512,3)))\n",
    "    model.add(BatchNormalization())\n",
    "    model.add(Activation('relu'))\n",
    "\n",
    "    model.add(MaxPooling2D(pool_size=(2, 2),strides=(2,2), padding='valid'))\n",
    "    \n",
    "    model.add(Conv2D(36,5, strides=(1,1), padding='valid'))\n",
    "    model.add(BatchNormalization())\n",
    "    model.add(Activation('relu'))\n",
    "    \n",
    "    model.add(MaxPooling2D(pool_size=(2, 2),strides=(2,2), padding='valid'))\n",
    "    model.add(Conv2D(48,5, strides=(1,1), padding='valid'))\n",
    "    model.add(BatchNormalization())\n",
    "    model.add(Activation('relu'))\n",
    "    \n",
    "    model.add(MaxPooling2D(pool_size=(2, 2),strides=(2,2), padding='valid'))\n",
    "    model.add(Conv2D(64,3, strides=(1,1), padding='valid'))\n",
    "    model.add(BatchNormalization())\n",
    "    model.add(Activation('relu'))\n",
    "    \n",
    "    model.add(MaxPooling2D(pool_size=(2, 2),strides=(2,2), padding='valid'))\n",
    "    model.add(Conv2D(64,3, strides=(1,1), padding='valid'))\n",
    "    model.add(BatchNormalization())\n",
    "    model.add(Activation('relu'))\n",
    "    \n",
    "    model.add(MaxPooling2D(pool_size=(2, 2),strides=(2,2), padding='valid'))\n",
    "    model.add(Flatten())\n",
    "    \n",
    "    model.add(Dense(100,activation='relu'))\n",
    "    model.add(Dense(50,activation='relu'))\n",
    "    model.add(Dense(10,activation='relu'))\n",
    "    \n",
    "    model.add(Dense(1)) \n",
    "    \n",
    "    # ▲▲▲▲ Nvidia의 End-to-End 모델 구현 ▲▲▲▲\n",
    "\n",
    "    return model\n",
    "\n",
    "model = get_model()\n",
    "model.summary()\n"
   ]
  },
  {
   "cell_type": "markdown",
   "metadata": {
    "id": "CXOXk25Wywda"
   },
   "source": [
    "# 4. 학습 및 검증 데이터 분할"
   ]
  },
  {
   "cell_type": "code",
   "execution_count": 9,
   "metadata": {
    "colab": {
     "base_uri": "https://localhost:8080/"
    },
    "id": "xjROLZ6hQnzg",
    "outputId": "d0d3bcf9-a22e-4aa6-b8b7-6ae019132670"
   },
   "outputs": [
    {
     "name": "stdout",
     "output_type": "stream",
     "text": [
      "2165 1732 433\n",
      "2165 1732 433\n"
     ]
    }
   ],
   "source": [
    "# Set the number of training and validation data\n",
    "VAL_RATIO = 0.2 \n",
    "\n",
    "len_val = int(np.ceil(len(label_df) * VAL_RATIO))\n",
    "len_train = int(len(label_df) - len_val)\n",
    "\n",
    "print(len(label_df), len_train, len_val)\n",
    "\n",
    "def split_train_val(df, val_ratio):\n",
    "    '''입력받은 데이터프레임를 ratio 기준으로 \n",
    "    학습용 데이터프레임과 검증용 데이터프레임으로 분할\n",
    "    입력 df: 데이터프레임\n",
    "    입력 val_ratio: 검증데이터 비율\n",
    "    출력 train_df: 학습용 데이터프레임\n",
    "    출력 val_df: 검증용 데이터프레임'''\n",
    "        \n",
    "        \n",
    "    # ▼▼▼▼ split_train_val 함수 구현을 위한 코드 작성 ▼▼▼▼\n",
    "\n",
    "    #raise NotImplementedError\n",
    "\n",
    "    len_val = int(np.ceil(len(label_df) * VAL_RATIO))\n",
    "    len_train = int(len(label_df) - len_val)\n",
    "    \n",
    "    val_indices = np.random.choice(df.index, len_val, replace=False)\n",
    "    df_val = df.iloc[val_indices].reset_index(drop=True) \n",
    "    val_indices = sorted(val_indices,reverse = True)\n",
    "    df_train = df.drop(val_indices,axis=0).reset_index(drop=True) \n",
    "    # ▲▲▲▲ split_train_val 함수 구현을 위한 코드 작성 ▲▲▲▲\n",
    "\n",
    "    return df_train, df_val\n",
    "\n",
    "label_train, label_val = split_train_val(label_df, VAL_RATIO)\n",
    "print(len(label_df), len(label_train), len(label_val))"
   ]
  },
  {
   "cell_type": "code",
   "execution_count": 10,
   "metadata": {
    "id": "l-tj7HukUenW"
   },
   "outputs": [],
   "source": [
    "# Duplication Check\n",
    "for i in range(len(label_train)):\n",
    "    for j in range(len(label_val)):\n",
    "        if label_train.loc[i, 'img'] == label_val.loc[j, 'img']:\n",
    "            print(\"{}th of train-set and {}th of validation-set are the same data.\".format(i, j))\n",
    "            print(\"Deduplication is needed\")\n",
    "            break"
   ]
  },
  {
   "cell_type": "markdown",
   "metadata": {
    "id": "-2YtIc86VRWW"
   },
   "source": [
    "# 5. 데이터로더 생성"
   ]
  },
  {
   "cell_type": "code",
   "execution_count": 11,
   "metadata": {
    "id": "LbBkVuzjVXBo"
   },
   "outputs": [],
   "source": [
    "from tensorflow.keras.utils import Sequence\n",
    "import math\n",
    "\n",
    "# https://minimin2.tistory.com/100\n",
    "class DataLoader(Sequence): \n",
    "    def __init__(self, label_df, batch_size, shuffle=False):\n",
    "        self.label_df = label_df\n",
    "        self.batch_size = batch_size\n",
    "        self.shuffle = shuffle\n",
    "        self.on_epoch_end()\n",
    "        self.xmin = -0.5\n",
    "        self.xmax = 0.5\n",
    " \n",
    "    def on_epoch_end(self):\n",
    "        self.indices = np.arange(len(self.label_df))\n",
    "        if self.shuffle == True:\n",
    "            np.random.shuffle(self.indices)\n",
    "    \n",
    "    \n",
    "    def __len__(self):\n",
    "        return math.ceil(len(self.label_df) / self.batch_size)\n",
    "    \n",
    "    def __getitem__(self, idx):\n",
    "\n",
    "\n",
    "        indices = self.indices[idx*self.batch_size:(idx+1)*self.batch_size]\n",
    "        \n",
    "        batch_x = [self.label_df.iloc[i, 0] for i in indices]\n",
    "        batch_y = [self.label_df.iloc[i, 1] for i in indices]\n",
    "\n",
    "        # ▼▼▼▼ batch_x 변수에 이미지 데이터 로드 ▼▼▼▼\n",
    "        # np.array(batch_x).shape = (batch_size, 256, 512, 3)\n",
    "\n",
    "        batch_x = [np.array(load_image(img_name)) / 255. for img_name in batch_x]\n",
    "       \n",
    "        # ▲▲▲▲ batch_x 변수에 이미지 데이터 로드 ▲▲▲▲\n",
    "\n",
    "\n",
    "        # ▼▼▼▼ batch_y Min-Max Normalization ▼▼▼▼\n",
    "        \n",
    "        batch_y = [self.min_max_normalize(steer) for steer in batch_y]\n",
    "        \n",
    "        # ▲▲▲▲ batch_y Min-Max Normalization ▲▲▲▲\n",
    "        \n",
    "        return np.array(batch_x), np.array(batch_y)\n",
    "\n",
    "    def min_max_normalize(self, x):\n",
    "  \n",
    "      x_scaled = (x - self.xmin) / (self.xmax - self.xmin)\n",
    "\n",
    "      return x_scaled"
   ]
  },
  {
   "cell_type": "code",
   "execution_count": 12,
   "metadata": {
    "colab": {
     "base_uri": "https://localhost:8080/"
    },
    "id": "NuuscgahVW_G",
    "outputId": "30436ab7-a2cd-452a-effe-5941ece35388"
   },
   "outputs": [
    {
     "name": "stdout",
     "output_type": "stream",
     "text": [
      "(5, 256, 512, 3)\n",
      "(5,)\n"
     ]
    }
   ],
   "source": [
    "total_data_loader = DataLoader(label_df = label_df, batch_size = 5, shuffle = False)\n",
    "x, y = total_data_loader[0]\n",
    "print(x.shape)\n",
    "print(y.shape)"
   ]
  },
  {
   "cell_type": "code",
   "execution_count": 13,
   "metadata": {
    "id": "gU6bDiKjw3Ga"
   },
   "outputs": [],
   "source": [
    "# 학습 및 검증 데이터로더 생성\n",
    "batch_size = 32\n",
    "train_data_loader = DataLoader(label_df = label_train, \n",
    "                               batch_size = batch_size, \n",
    "                               shuffle = True)\n",
    "\n",
    "val_data_loader = DataLoader(label_df = label_val, \n",
    "                             batch_size = batch_size, \n",
    "                             shuffle = True)"
   ]
  },
  {
   "cell_type": "markdown",
   "metadata": {
    "id": "6GLNJmJEY_WD"
   },
   "source": [
    "# 6. 학습 설정"
   ]
  },
  {
   "cell_type": "code",
   "execution_count": 14,
   "metadata": {
    "id": "TakVX55IVW8f"
   },
   "outputs": [],
   "source": [
    "import tensorflow as tf\n",
    "\n",
    "LOSS = 'mse'\n",
    "OPTIMIZER = 'adam'\n",
    "METRIC = 'mae'\n",
    "\n",
    "scheduler = tf.keras.optimizers.schedules.CosineDecay(0.001,40)\n",
    "callback = tf.keras.callbacks.LearningRateScheduler(scheduler)\n",
    "\n",
    "\n",
    "model.compile(loss = LOSS,\n",
    "              optimizer = OPTIMIZER,\n",
    "              metrics = [METRIC],)"
   ]
  },
  {
   "cell_type": "markdown",
   "metadata": {
    "id": "ZLcJ1URzxX1P"
   },
   "source": [
    "# 7. 모델 학습"
   ]
  },
  {
   "cell_type": "code",
   "execution_count": 15,
   "metadata": {
    "colab": {
     "base_uri": "https://localhost:8080/"
    },
    "id": "VBudwrvbwWUJ",
    "outputId": "c8462206-e8da-4fe6-cbea-07943f68ce65"
   },
   "outputs": [
    {
     "name": "stdout",
     "output_type": "stream",
     "text": [
      "Epoch 1/25\n",
      "55/55 [==============================] - 33s 390ms/step - loss: 0.2033 - mae: 0.2324 - val_loss: 0.0985 - val_mae: 0.2793 - lr: 0.0010\n",
      "Epoch 2/25\n",
      "55/55 [==============================] - 21s 387ms/step - loss: 0.0189 - mae: 0.1050 - val_loss: 0.1007 - val_mae: 0.2863 - lr: 9.9846e-04\n",
      "Epoch 3/25\n",
      "55/55 [==============================] - 21s 389ms/step - loss: 0.0103 - mae: 0.0780 - val_loss: 0.0722 - val_mae: 0.2362 - lr: 9.9384e-04\n",
      "Epoch 4/25\n",
      "55/55 [==============================] - 20s 366ms/step - loss: 0.0069 - mae: 0.0641 - val_loss: 0.0563 - val_mae: 0.2045 - lr: 9.8619e-04\n",
      "Epoch 5/25\n",
      "55/55 [==============================] - 20s 368ms/step - loss: 0.0091 - mae: 0.0745 - val_loss: 0.0251 - val_mae: 0.1224 - lr: 9.7553e-04\n",
      "Epoch 6/25\n",
      "55/55 [==============================] - 20s 370ms/step - loss: 0.0081 - mae: 0.0701 - val_loss: 0.0268 - val_mae: 0.1254 - lr: 9.6194e-04\n",
      "Epoch 7/25\n",
      "55/55 [==============================] - 22s 391ms/step - loss: 0.0060 - mae: 0.0601 - val_loss: 0.0242 - val_mae: 0.1170 - lr: 9.4550e-04\n",
      "Epoch 8/25\n",
      "55/55 [==============================] - 20s 367ms/step - loss: 0.0069 - mae: 0.0648 - val_loss: 0.0309 - val_mae: 0.1416 - lr: 9.2632e-04\n",
      "Epoch 9/25\n",
      "55/55 [==============================] - 21s 380ms/step - loss: 0.0064 - mae: 0.0633 - val_loss: 0.0242 - val_mae: 0.1207 - lr: 9.0451e-04\n",
      "Epoch 10/25\n",
      "55/55 [==============================] - 20s 370ms/step - loss: 0.0054 - mae: 0.0572 - val_loss: 0.0070 - val_mae: 0.0630 - lr: 8.8020e-04\n",
      "Epoch 11/25\n",
      "55/55 [==============================] - 21s 376ms/step - loss: 0.0047 - mae: 0.0524 - val_loss: 0.0062 - val_mae: 0.0607 - lr: 8.5355e-04\n",
      "Epoch 12/25\n",
      "55/55 [==============================] - 20s 369ms/step - loss: 0.0047 - mae: 0.0535 - val_loss: 0.0058 - val_mae: 0.0581 - lr: 8.2472e-04\n",
      "Epoch 13/25\n",
      "55/55 [==============================] - 20s 366ms/step - loss: 0.0061 - mae: 0.0609 - val_loss: 0.0045 - val_mae: 0.0518 - lr: 7.9389e-04\n",
      "Epoch 14/25\n",
      "55/55 [==============================] - 20s 366ms/step - loss: 0.0032 - mae: 0.0442 - val_loss: 0.0041 - val_mae: 0.0496 - lr: 7.6125e-04\n",
      "Epoch 15/25\n",
      "55/55 [==============================] - 20s 366ms/step - loss: 0.0024 - mae: 0.0377 - val_loss: 0.0034 - val_mae: 0.0454 - lr: 7.2700e-04\n",
      "Epoch 16/25\n",
      "55/55 [==============================] - 20s 366ms/step - loss: 0.0040 - mae: 0.0498 - val_loss: 0.0043 - val_mae: 0.0506 - lr: 6.9134e-04\n",
      "Epoch 17/25\n",
      "55/55 [==============================] - 20s 365ms/step - loss: 0.0023 - mae: 0.0372 - val_loss: 0.0036 - val_mae: 0.0466 - lr: 6.5451e-04\n",
      "Epoch 18/25\n",
      "55/55 [==============================] - 20s 365ms/step - loss: 0.0021 - mae: 0.0351 - val_loss: 0.0039 - val_mae: 0.0496 - lr: 6.1672e-04\n",
      "Epoch 19/25\n",
      "55/55 [==============================] - 20s 364ms/step - loss: 0.0017 - mae: 0.0313 - val_loss: 0.0029 - val_mae: 0.0418 - lr: 5.7822e-04\n",
      "Epoch 20/25\n",
      "55/55 [==============================] - 21s 379ms/step - loss: 0.0021 - mae: 0.0347 - val_loss: 0.0032 - val_mae: 0.0438 - lr: 5.3923e-04\n",
      "Epoch 21/25\n",
      "55/55 [==============================] - 21s 372ms/step - loss: 0.0025 - mae: 0.0383 - val_loss: 0.0035 - val_mae: 0.0441 - lr: 5.0000e-04\n",
      "Epoch 22/25\n",
      "55/55 [==============================] - 23s 411ms/step - loss: 0.0018 - mae: 0.0327 - val_loss: 0.0022 - val_mae: 0.0360 - lr: 4.6077e-04\n",
      "Epoch 23/25\n",
      "55/55 [==============================] - 20s 367ms/step - loss: 0.0016 - mae: 0.0306 - val_loss: 0.0029 - val_mae: 0.0420 - lr: 4.2178e-04\n",
      "Epoch 24/25\n",
      "55/55 [==============================] - 20s 367ms/step - loss: 0.0019 - mae: 0.0331 - val_loss: 0.0027 - val_mae: 0.0391 - lr: 3.8328e-04\n",
      "Epoch 25/25\n",
      "55/55 [==============================] - 21s 372ms/step - loss: 0.0013 - mae: 0.0274 - val_loss: 0.0022 - val_mae: 0.0360 - lr: 3.4549e-04\n"
     ]
    }
   ],
   "source": [
    "epochs = 25\n",
    "\n",
    "# 학습 종료 시점에 대한 고찰\n",
    "# https://www.tensorflow.org/api_docs/python/tf/keras/callbacks/EarlyStopping\n",
    "\n",
    "history = model.fit(x = train_data_loader,\n",
    "                    validation_data = val_data_loader,\n",
    "                    epochs = epochs,\n",
    "                    callbacks=[callback])"
   ]
  },
  {
   "cell_type": "markdown",
   "metadata": {
    "id": "HLrVnnPxyox4"
   },
   "source": [
    "# 8. 학습이 완료된 모델 저장"
   ]
  },
  {
   "cell_type": "code",
   "execution_count": 16,
   "metadata": {
    "colab": {
     "base_uri": "https://localhost:8080/"
    },
    "id": "oeh6him4Z7Mw",
    "outputId": "3c0481cd-e295-4bf4-d2dc-10016088d423"
   },
   "outputs": [
    {
     "name": "stderr",
     "output_type": "stream",
     "text": [
      "WARNING:absl:Found untraced functions such as _jit_compiled_convolution_op, _jit_compiled_convolution_op, _jit_compiled_convolution_op, _jit_compiled_convolution_op, _jit_compiled_convolution_op while saving (showing 5 of 5). These functions will not be directly callable after loading.\n"
     ]
    },
    {
     "name": "stdout",
     "output_type": "stream",
     "text": [
      "  adding: my_model/assets/ (stored 0%)\n",
      "  adding: my_model/keras_metadata.pb (deflated 94%)\n",
      "  adding: my_model/saved_model.pb (deflated 90%)\n",
      "  adding: my_model/variables/ (stored 0%)\n",
      "  adding: my_model/variables/variables.index (deflated 73%)\n",
      "  adding: my_model/variables/variables.data-00000-of-00001 (deflated 21%)\n"
     ]
    }
   ],
   "source": [
    "model.save('my_model')\n",
    "!zip -r my_model.zip my_model/*"
   ]
  },
  {
   "cell_type": "markdown",
   "metadata": {
    "id": "BVWfXQokytVU"
   },
   "source": [
    "# 9. 제출 전 저장된 모델이 정상적으로 로드되는지 확인!"
   ]
  },
  {
   "cell_type": "code",
   "execution_count": 17,
   "metadata": {
    "colab": {
     "base_uri": "https://localhost:8080/"
    },
    "id": "l3lnOPu6aX70",
    "outputId": "e99305d2-c1cc-4b73-f0d9-d1510fc3adea"
   },
   "outputs": [
    {
     "name": "stdout",
     "output_type": "stream",
     "text": [
      "Archive:  my_model.zip\n",
      "   creating: check/my_model/assets/\n",
      "  inflating: check/my_model/keras_metadata.pb  \n",
      "  inflating: check/my_model/saved_model.pb  \n",
      "   creating: check/my_model/variables/\n",
      "  inflating: check/my_model/variables/variables.index  \n",
      "  inflating: check/my_model/variables/variables.data-00000-of-00001  \n",
      "Model: \"sequential\"\n",
      "_________________________________________________________________\n",
      " Layer (type)                Output Shape              Param #   \n",
      "=================================================================\n",
      " conv2d (Conv2D)             (None, 252, 508, 24)      1824      \n",
      "                                                                 \n",
      " batch_normalization (BatchN  (None, 252, 508, 24)     96        \n",
      " ormalization)                                                   \n",
      "                                                                 \n",
      " activation (Activation)     (None, 252, 508, 24)      0         \n",
      "                                                                 \n",
      " max_pooling2d (MaxPooling2D  (None, 126, 254, 24)     0         \n",
      " )                                                               \n",
      "                                                                 \n",
      " conv2d_1 (Conv2D)           (None, 122, 250, 36)      21636     \n",
      "                                                                 \n",
      " batch_normalization_1 (Batc  (None, 122, 250, 36)     144       \n",
      " hNormalization)                                                 \n",
      "                                                                 \n",
      " activation_1 (Activation)   (None, 122, 250, 36)      0         \n",
      "                                                                 \n",
      " max_pooling2d_1 (MaxPooling  (None, 61, 125, 36)      0         \n",
      " 2D)                                                             \n",
      "                                                                 \n",
      " conv2d_2 (Conv2D)           (None, 57, 121, 48)       43248     \n",
      "                                                                 \n",
      " batch_normalization_2 (Batc  (None, 57, 121, 48)      192       \n",
      " hNormalization)                                                 \n",
      "                                                                 \n",
      " activation_2 (Activation)   (None, 57, 121, 48)       0         \n",
      "                                                                 \n",
      " max_pooling2d_2 (MaxPooling  (None, 28, 60, 48)       0         \n",
      " 2D)                                                             \n",
      "                                                                 \n",
      " conv2d_3 (Conv2D)           (None, 26, 58, 64)        27712     \n",
      "                                                                 \n",
      " batch_normalization_3 (Batc  (None, 26, 58, 64)       256       \n",
      " hNormalization)                                                 \n",
      "                                                                 \n",
      " activation_3 (Activation)   (None, 26, 58, 64)        0         \n",
      "                                                                 \n",
      " max_pooling2d_3 (MaxPooling  (None, 13, 29, 64)       0         \n",
      " 2D)                                                             \n",
      "                                                                 \n",
      " conv2d_4 (Conv2D)           (None, 11, 27, 64)        36928     \n",
      "                                                                 \n",
      " batch_normalization_4 (Batc  (None, 11, 27, 64)       256       \n",
      " hNormalization)                                                 \n",
      "                                                                 \n",
      " activation_4 (Activation)   (None, 11, 27, 64)        0         \n",
      "                                                                 \n",
      " max_pooling2d_4 (MaxPooling  (None, 5, 13, 64)        0         \n",
      " 2D)                                                             \n",
      "                                                                 \n",
      " flatten (Flatten)           (None, 4160)              0         \n",
      "                                                                 \n",
      " dense (Dense)               (None, 100)               416100    \n",
      "                                                                 \n",
      " dense_1 (Dense)             (None, 50)                5050      \n",
      "                                                                 \n",
      " dense_2 (Dense)             (None, 10)                510       \n",
      "                                                                 \n",
      " dense_3 (Dense)             (None, 1)                 11        \n",
      "                                                                 \n",
      "=================================================================\n",
      "Total params: 553,963\n",
      "Trainable params: 553,491\n",
      "Non-trainable params: 472\n",
      "_________________________________________________________________\n",
      "None\n",
      "14/14 [==============================] - 4s 269ms/step - loss: 0.0022 - mae: 0.0360\n"
     ]
    },
    {
     "data": {
      "text/plain": [
       "[0.0021910006180405617, 0.03595107048749924]"
      ]
     },
     "execution_count": 17,
     "metadata": {},
     "output_type": "execute_result"
    }
   ],
   "source": [
    "from tensorflow.keras.models import load_model\n",
    "\n",
    "!unzip my_model.zip -d check/\n",
    "\n",
    "loaded_model = load_model('check/my_model')\n",
    "print(loaded_model.summary())\n",
    "\n",
    "loaded_model.evaluate(x = val_data_loader)"
   ]
  },
  {
   "cell_type": "markdown",
   "metadata": {
    "id": "2M3NWpjS0Hza"
   },
   "source": [
    "# 10. 정상적으로 저장되었다면 `my_model.zip` 파일을 `학번_이름_과제2.zip`으로 변경해서 제출하시오."
   ]
  }
 ],
 "metadata": {
  "accelerator": "GPU",
  "colab": {
   "provenance": []
  },
  "gpuClass": "standard",
  "kernelspec": {
   "display_name": "Python 3 (ipykernel)",
   "language": "python",
   "name": "python3"
  },
  "language_info": {
   "codemirror_mode": {
    "name": "ipython",
    "version": 3
   },
   "file_extension": ".py",
   "mimetype": "text/x-python",
   "name": "python",
   "nbconvert_exporter": "python",
   "pygments_lexer": "ipython3",
   "version": "3.10.8"
  }
 },
 "nbformat": 4,
 "nbformat_minor": 1
}
